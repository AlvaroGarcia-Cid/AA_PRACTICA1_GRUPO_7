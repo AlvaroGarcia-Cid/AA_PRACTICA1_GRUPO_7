{
  "cells": [
    {
      "cell_type": "markdown",
      "source": [
        "**GRUPO <7>**\n",
        "\n",
        "Pilar Arias, Álvaro García Cid, Yedra Martín, Amaya Sarasa\n"
      ],
      "metadata": {
        "id": "jhfa3wAEv8Ho"
      },
      "id": "jhfa3wAEv8Ho"
    },
    {
      "cell_type": "code",
      "source": [
        "%tensorflow_version 2.x\n",
        "import tensorflow as tf\n",
        "from tensorflow import keras\n",
        "print(tf.keras.__version__)\n",
        "print(\"GPU Available:\", tf.config.list_physical_devices('GPU'))\n",
        "print(tf.__version__)"
      ],
      "metadata": {
        "id": "PvAsFfxnyspk",
        "outputId": "2126e62d-ba2f-415d-b906-ca3faba7ec83",
        "colab": {
          "base_uri": "https://localhost:8080/"
        }
      },
      "id": "PvAsFfxnyspk",
      "execution_count": null,
      "outputs": [
        {
          "output_type": "stream",
          "name": "stdout",
          "text": [
            "Colab only includes TensorFlow 2.x; %tensorflow_version has no effect.\n",
            "2.9.0\n",
            "GPU Available: []\n",
            "2.9.2\n"
          ]
        }
      ]
    },
    {
      "cell_type": "code",
      "source": [
        "from keras.datasets import fashion_mnist\n",
        "\n",
        "(train_images, train_labels), (test_images, test_labels) = fashion_mnist.load_data()"
      ],
      "metadata": {
        "id": "2VVjNLKSzEQO",
        "outputId": "48a207c2-b4c4-44e4-bbcc-b5a83ae88b58",
        "colab": {
          "base_uri": "https://localhost:8080/"
        }
      },
      "id": "2VVjNLKSzEQO",
      "execution_count": null,
      "outputs": [
        {
          "output_type": "stream",
          "name": "stdout",
          "text": [
            "Downloading data from https://storage.googleapis.com/tensorflow/tf-keras-datasets/train-labels-idx1-ubyte.gz\n",
            "29515/29515 [==============================] - 0s 0us/step\n",
            "Downloading data from https://storage.googleapis.com/tensorflow/tf-keras-datasets/train-images-idx3-ubyte.gz\n",
            "26421880/26421880 [==============================] - 0s 0us/step\n",
            "Downloading data from https://storage.googleapis.com/tensorflow/tf-keras-datasets/t10k-labels-idx1-ubyte.gz\n",
            "5148/5148 [==============================] - 0s 0us/step\n",
            "Downloading data from https://storage.googleapis.com/tensorflow/tf-keras-datasets/t10k-images-idx3-ubyte.gz\n",
            "4422102/4422102 [==============================] - 0s 0us/step\n"
          ]
        }
      ]
    },
    {
      "cell_type": "markdown",
      "source": [
        "Comprobamos las dimensiones de los datos proporcionados:"
      ],
      "metadata": {
        "id": "1v7ZlvTDEvRt"
      },
      "id": "1v7ZlvTDEvRt"
    },
    {
      "cell_type": "code",
      "source": [
        "print(train_images.shape)"
      ],
      "metadata": {
        "id": "jvPP1zfMzfGk",
        "outputId": "13c71474-44f5-4856-c122-3f1264d45f34",
        "colab": {
          "base_uri": "https://localhost:8080/"
        }
      },
      "id": "jvPP1zfMzfGk",
      "execution_count": null,
      "outputs": [
        {
          "output_type": "stream",
          "name": "stdout",
          "text": [
            "(60000, 28, 28)\n"
          ]
        }
      ]
    },
    {
      "cell_type": "markdown",
      "source": [
        "Efectivamente, encontramos 60000 imágenes para el entrenamiento, de 28*28 píxeles. Más adelante deberemos cambiar las dimensiones de las imágenes, para así poderlas entrar correctamente a la primera capa de la red neuronal. "
      ],
      "metadata": {
        "id": "bEEGhLA1E0RC"
      },
      "id": "bEEGhLA1E0RC"
    },
    {
      "cell_type": "markdown",
      "source": [
        "A continuación, probamos a ver cómo se vería representada la imagen número 999:"
      ],
      "metadata": {
        "id": "OyXYrRwmFNJD"
      },
      "id": "OyXYrRwmFNJD"
    },
    {
      "cell_type": "code",
      "source": [
        "import numpy as np\n",
        "np.set_printoptions(precision=2, suppress=True, linewidth=145)\n",
        "print(np.matrix(test_images[1000]))"
      ],
      "metadata": {
        "id": "jKbpCXLYzpJr",
        "outputId": "fe3b3b7a-8dc1-45ed-c2a3-2a57202dad8a",
        "colab": {
          "base_uri": "https://localhost:8080/"
        }
      },
      "id": "jKbpCXLYzpJr",
      "execution_count": null,
      "outputs": [
        {
          "output_type": "stream",
          "name": "stdout",
          "text": [
            "[[  0   0   1   0   0   0   0   0  84  80   0   0   0   0   0   0   0   0   0  13  97   0   0   0   0   0   0   0]\n",
            " [  0   0   0   0   0   0  48 161 189 197   0   0   0   0   0   1   0   0   0 178 195 161  79   0   0   0   0   0]\n",
            " [  0   0   0   0   0  66 210 202 201 193 106   0   0   1   1   0   0   0 134 195 179 165 221  74   0   0   0   0]\n",
            " [  0   0   0   0   3 196 178 187 186 166 186 132   0   0   0   0   0 104 182 153 192 183 179 182  27   0   0   0]\n",
            " [  0   0   1   0 136 204 184 106 169 201 184 208 186  80  50 105 206 213 191 199 205 160 157 170 163   0   0   0]\n",
            " [  0   0   0   0 188 173 200 199 231 171 162 209 136 244 174 241 179 147 179 130 215 173 134 189 176   6   0   0]\n",
            " [  0   0   0  35 186 195 183 126 184 160 165 160 148 174 152 157 144 179 162 171 156 186 132 122 201  76   0   0]\n",
            " [  0   0   0 114 186 184 202 196 197 131 209 180 202 167 144 221 174 213 171 154 227 176 127 193 189 193   0   0]\n",
            " [  0   0   0 223 183 165 166 173 200 163 161 200 149 204 124 184 165 157 182 110 187 154 199 162 166 176   0   0]\n",
            " [  0   0  49 171 162 187 230 192 167 152 169 182 183 157 175 169 197 179 180 192 189 184 192 147 161 192  57   0]\n",
            " [  0   0  85 187 204 162 212 163 169 199 175 217 136 201 153 204 191 149 191 130 226 132 188 171 152 193 136   0]\n",
            " [  0   0   0  22 120 137 255 171 170 156 150 176 148 188 156 161 161 166 158 179 144 158 202 218 105  18   0   0]\n",
            " [  0   0   0   0   0   0  88 193 173 136 189 160 202 163 136 199 174 230 147 153 208 222 126   0   0   0   0   0]\n",
            " [  0   0   0   1   3   0 124 210 195 157 156 205 158 209 123 182 167 166 174 124 183 170 137   0   0   2   0   0]\n",
            " [  0   0   0   0   0   0 141 187 156 145 148 188 169 156 165 169 191 170 163 184 182 189 118   0   1   0   0   0]\n",
            " [  0   0   0   0   0   0 137 201 154 208 186 206 145 199 162 205 180 165 191 144 214 157 176   0   0   0   0   0]\n",
            " [  0   0   0   0   0   0 145 193 147 165 147 191 144 183 154 153 150 173 157 167 143 170 158   0   0   0   0   0]\n",
            " [  0   0   0   0   0   0 161 167 178 136 184 162 197 165 144 195 174 202 136 179 189 192 165   0   0   1   0   0]\n",
            " [  0   0   0   0   0   0 204 188 196 167 154 197 167 205 128 183 149 187 161 140 179 160 200   0   0   2   0   0]\n",
            " [  0   0   0   0   0   0 173 187 147 147 143 193 174 161 154 176 199 169 174 167 187 179 188   0   0   3   0   0]\n",
            " [  0   0   0   1   0   0 201 189 174 195 184 201 160 213 171 213 153 183 169 170 210 154 217   0   0   1   0   0]\n",
            " [  0   0   0   1   0   0 210 187 153 165 137 200 149 195 131 165 150 189 150 147 165 165 196   2   0   1   0   0]\n",
            " [  0   0   0   2   0  27 169 157 183 140 186 149 193 163 153 174 182 191 126 187 158 180 170  23   0   2   0   0]\n",
            " [  0   0   0   1   0  26 206 176 225 152 175 197 184 204 139 195 161 206 137 179 186 174 182  40   0   3   0   0]\n",
            " [  0   0   0   5   0  29 193 170 174 150 134 191 167 157 136 178 170 169 128 162 183 156 173  35   0   6   0   0]\n",
            " [  0   0   0   5   0  71 187 183 180 189 182 186 175 206 195 192 145 188 205 171 182 160 179 115   0   5   0   0]\n",
            " [  0   0   0   3   0 153 218 188 197 187 154 228 166 192 130 205 158 200 131 202 215 162 195 102   0   2   0   0]\n",
            " [  0   0   1   1   0   0  31  81 118 141 139 109 170 162 144 123 152 158 117  92  70  71  52   0   0   0   0   0]]\n"
          ]
        }
      ]
    },
    {
      "cell_type": "markdown",
      "source": [
        "Se puede asemejar a una camiseta, y efectivamente, comprobando con la etiqueta que se proporciona, se está representando de manera correcta."
      ],
      "metadata": {
        "id": "CnxdhGPrFWNJ"
      },
      "id": "CnxdhGPrFWNJ"
    },
    {
      "cell_type": "code",
      "source": [
        "test_labels[1000]\n"
      ],
      "metadata": {
        "id": "MrCFcje0z9RA",
        "outputId": "d2f04ea8-dba2-435e-cee7-ac95af4a6bae",
        "colab": {
          "base_uri": "https://localhost:8080/"
        }
      },
      "id": "MrCFcje0z9RA",
      "execution_count": null,
      "outputs": [
        {
          "output_type": "execute_result",
          "data": {
            "text/plain": [
              "0"
            ]
          },
          "metadata": {},
          "execution_count": 6
        }
      ]
    },
    {
      "cell_type": "markdown",
      "source": [
        "Probamos otra manera de representar la imagen. "
      ],
      "metadata": {
        "id": "I1kORBYcFkaI"
      },
      "id": "I1kORBYcFkaI"
    },
    {
      "cell_type": "code",
      "source": [
        "import matplotlib.pyplot as plt\n",
        "digit = train_images[30000]\n",
        "plt.imshow(digit, cmap=plt.cm.binary)\n",
        "plt.show()"
      ],
      "metadata": {
        "id": "a0ofL4Fk0GaH",
        "outputId": "851cf1c2-2d36-48f8-add7-544a544547c2",
        "colab": {
          "base_uri": "https://localhost:8080/",
          "height": 265
        }
      },
      "id": "a0ofL4Fk0GaH",
      "execution_count": null,
      "outputs": [
        {
          "output_type": "display_data",
          "data": {
            "text/plain": [
              "<Figure size 432x288 with 1 Axes>"
            ],
            "image/png": "[encoded data removed]"
          },
          "metadata": {
            "needs_background": "light"
          }
        }
      ]
    },
    {
      "cell_type": "code",
      "source": [
        "train_images = train_images.reshape((60000, 28 * 28))\n",
        "train_images = train_images.astype('float32') / 255\n",
        "test_images = test_images.reshape((10000, 28 * 28))\n",
        "test_images = test_images.astype('float32') / 255\n",
        "print(len(train_images))\n",
        "print(train_images.shape)\n",
        "np.set_printoptions(precision=2, suppress=True, linewidth=145)\n",
        "print(np.matrix(train_images[2]))"
      ],
      "metadata": {
        "id": "tt3cwHZ_3VC9",
        "outputId": "59c77d47-6b5e-45dc-b526-92d16ef43226",
        "colab": {
          "base_uri": "https://localhost:8080/"
        }
      },
      "id": "tt3cwHZ_3VC9",
      "execution_count": null,
      "outputs": [
        {
          "output_type": "stream",
          "name": "stdout",
          "text": [
            "60000\n",
            "(60000, 784)\n",
            "[[0.   0.   0.   0.   0.   0.   0.   0.   0.   0.09 0.46 0.09 0.   0.   0.   0.   0.   0.19 0.35 0.02 0.   0.   0.   0.   0.   0.   0.   0.\n",
            "  0.   0.   0.   0.   0.   0.   0.   0.   0.05 0.39 0.83 0.8  0.73 0.7  0.68 0.73 0.76 0.87 0.56 0.33 0.   0.   0.   0.   0.   0.   0.   0.\n",
            "  0.   0.   0.   0.   0.   0.   0.   0.   0.   0.33 0.3  0.78 0.88 0.97 1.   0.93 0.89 0.62 0.27 0.31 0.   0.   0.   0.   0.   0.   0.   0.\n",
            "  0.   0.   0.   0.   0.   0.   0.   0.   0.   0.36 0.27 0.36 0.79 0.85 0.88 0.82 0.62 0.24 0.36 0.28 0.   0.   0.   0.   0.   0.   0.   0.\n",
            "  0.   0.   0.   0.   0.   0.   0.   0.   0.   0.31 0.35 0.24 0.23 0.34 0.42 0.29 0.22 0.3  0.38 0.29 0.   0.   0.   0.   0.   0.   0.   0.\n",
            "  0.   0.   0.   0.   0.   0.   0.   0.   0.   0.29 0.35 0.31 0.31 0.26 0.25 0.29 0.33 0.31 0.38 0.28 0.   0.   0.   0.   0.   0.   0.   0.\n",
            "  0.   0.   0.   0.   0.   0.   0.   0.   0.   0.3  0.35 0.3  0.31 0.33 0.33 0.33 0.33 0.32 0.37 0.3  0.   0.   0.   0.   0.   0.   0.   0.\n",
            "  0.   0.   0.   0.   0.   0.   0.   0.   0.   0.35 0.38 0.31 0.33 0.32 0.33 0.33 0.33 0.33 0.38 0.33 0.   0.   0.   0.   0.   0.   0.   0.\n",
            "  0.   0.   0.   0.   0.   0.   0.   0.   0.   0.36 0.38 0.32 0.33 0.33 0.33 0.34 0.35 0.33 0.39 0.34 0.   0.   0.   0.   0.   0.   0.   0.\n",
            "  0.   0.   0.   0.   0.   0.   0.   0.   0.   0.37 0.34 0.33 0.34 0.35 0.33 0.34 0.34 0.33 0.36 0.34 0.   0.   0.   0.   0.   0.   0.   0.\n",
            "  0.   0.   0.   0.   0.   0.   0.   0.   0.   0.38 0.34 0.34 0.33 0.35 0.34 0.34 0.34 0.35 0.33 0.42 0.   0.   0.   0.   0.   0.   0.   0.\n",
            "  0.   0.   0.   0.   0.   0.   0.   0.   0.07 0.39 0.35 0.34 0.34 0.35 0.34 0.34 0.33 0.35 0.3  0.46 0.03 0.   0.   0.   0.   0.   0.   0.\n",
            "  0.   0.   0.   0.   0.   0.   0.   0.   0.04 0.36 0.34 0.34 0.34 0.34 0.34 0.35 0.34 0.35 0.31 0.4  0.   0.   0.   0.   0.   0.   0.   0.\n",
            "  0.   0.   0.   0.   0.   0.   0.   0.   0.04 0.38 0.34 0.34 0.34 0.34 0.34 0.35 0.34 0.35 0.34 0.4  0.   0.   0.   0.   0.   0.   0.   0.\n",
            "  0.   0.   0.   0.   0.   0.   0.   0.   0.05 0.38 0.33 0.34 0.34 0.34 0.33 0.34 0.34 0.35 0.35 0.39 0.01 0.   0.   0.   0.   0.   0.   0.\n",
            "  0.   0.   0.   0.   0.   0.   0.   0.   0.08 0.37 0.33 0.35 0.33 0.34 0.35 0.35 0.35 0.35 0.35 0.39 0.03 0.   0.   0.   0.   0.   0.   0.\n",
            "  0.   0.   0.   0.   0.   0.   0.   0.   0.08 0.38 0.33 0.34 0.33 0.35 0.35 0.35 0.35 0.35 0.35 0.39 0.04 0.   0.   0.   0.   0.   0.   0.\n",
            "  0.   0.   0.   0.   0.   0.   0.   0.   0.09 0.38 0.33 0.34 0.33 0.34 0.35 0.35 0.35 0.35 0.36 0.4  0.05 0.   0.   0.   0.   0.   0.   0.\n",
            "  0.   0.   0.   0.   0.   0.   0.   0.   0.1  0.36 0.33 0.35 0.34 0.34 0.34 0.34 0.34 0.35 0.36 0.4  0.11 0.   0.   0.   0.   0.   0.   0.\n",
            "  0.   0.   0.   0.   0.   0.   0.   0.   0.12 0.37 0.33 0.35 0.35 0.34 0.34 0.34 0.34 0.35 0.35 0.4  0.15 0.   0.   0.   0.   0.   0.   0.\n",
            "  0.   0.   0.   0.   0.   0.   0.   0.   0.13 0.38 0.35 0.34 0.34 0.34 0.34 0.34 0.34 0.33 0.33 0.38 0.15 0.   0.   0.   0.   0.   0.   0.\n",
            "  0.   0.   0.   0.   0.   0.   0.   0.   0.16 0.38 0.34 0.33 0.34 0.34 0.34 0.34 0.34 0.33 0.33 0.36 0.19 0.   0.   0.   0.   0.   0.   0.\n",
            "  0.   0.   0.   0.   0.   0.   0.   0.   0.18 0.37 0.33 0.33 0.34 0.34 0.34 0.34 0.34 0.34 0.33 0.34 0.33 0.   0.   0.   0.   0.   0.   0.\n",
            "  0.   0.   0.   0.   0.   0.   0.   0.   0.28 0.37 0.33 0.33 0.33 0.35 0.34 0.34 0.35 0.34 0.33 0.33 0.25 0.   0.   0.   0.   0.   0.   0.\n",
            "  0.   0.   0.   0.   0.   0.   0.   0.   0.25 0.39 0.33 0.34 0.35 0.33 0.35 0.35 0.33 0.34 0.33 0.37 0.21 0.   0.   0.   0.   0.   0.   0.\n",
            "  0.   0.   0.   0.   0.   0.   0.   0.   0.04 0.4  0.39 0.36 0.36 0.35 0.33 0.33 0.33 0.34 0.42 0.42 0.05 0.   0.   0.   0.   0.   0.   0.\n",
            "  0.   0.   0.   0.   0.   0.   0.   0.   0.   0.03 0.29 0.36 0.41 0.42 0.4  0.4  0.42 0.4  0.29 0.04 0.   0.   0.   0.   0.   0.   0.   0.\n",
            "  0.   0.   0.   0.   0.   0.   0.   0.   0.   0.   0.   0.   0.07 0.16 0.22 0.22 0.13 0.03 0.   0.   0.   0.   0.   0.   0.   0.   0.   0.  ]]\n"
          ]
        }
      ]
    },
    {
      "cell_type": "code",
      "source": [
        "def to_one_hot(labels, dimension=10):\n",
        "    results = np.zeros((len(labels), dimension))\n",
        "    for i, label in enumerate(labels):\n",
        "        results[i, label] = 1.\n",
        "    return results\n",
        "\n",
        "# Datos de entrenamiento vectorizados\n",
        "one_hot_train_labels = to_one_hot(train_labels)\n",
        "# Datos de test vectorizados\n",
        "one_hot_test_labels = to_one_hot(test_labels)\n",
        "print(one_hot_test_labels)\n"
      ],
      "metadata": {
        "id": "LlxCEGKt4tUV",
        "outputId": "fd34ce65-5866-428c-8db6-f5f782002ea1",
        "colab": {
          "base_uri": "https://localhost:8080/"
        }
      },
      "id": "LlxCEGKt4tUV",
      "execution_count": null,
      "outputs": [
        {
          "output_type": "stream",
          "name": "stdout",
          "text": [
            "[[0. 0. 0. ... 0. 0. 1.]\n",
            " [0. 0. 1. ... 0. 0. 0.]\n",
            " [0. 1. 0. ... 0. 0. 0.]\n",
            " ...\n",
            " [0. 0. 0. ... 0. 1. 0.]\n",
            " [0. 1. 0. ... 0. 0. 0.]\n",
            " [0. 0. 0. ... 0. 0. 0.]]\n"
          ]
        }
      ]
    },
    {
      "cell_type": "code",
      "source": [
        "from keras.utils.np_utils import to_categorical\n",
        "\n",
        "one_hot_train_labels = to_categorical(train_labels)\n",
        "one_hot_test_labels = to_categorical(test_labels)\n",
        "print(one_hot_test_labels[1])"
      ],
      "metadata": {
        "id": "5aR92VJ64zyz",
        "outputId": "5007a4b3-415c-4887-e794-c0c473d16f46",
        "colab": {
          "base_uri": "https://localhost:8080/"
        }
      },
      "id": "5aR92VJ64zyz",
      "execution_count": null,
      "outputs": [
        {
          "output_type": "stream",
          "name": "stdout",
          "text": [
            "[0. 0. 1. 0. 0. 0. 0. 0. 0. 0.]\n"
          ]
        }
      ]
    },
    {
      "cell_type": "markdown",
      "source": [
        "CASO 1"
      ],
      "metadata": {
        "id": "azz0J1EN1w_i"
      },
      "id": "azz0J1EN1w_i"
    },
    {
      "cell_type": "code",
      "source": [
        "from keras import models\n",
        "from keras import layers\n",
        "network = models.Sequential()\n",
        "network.add(layers.Dense(10, activation='relu', input_shape=(28*28,)))\n",
        "network.add(layers.Dense(10, activation='softmax'))\n",
        "network.summary()"
      ],
      "metadata": {
        "id": "nYPCCxVF10iR",
        "outputId": "23889976-fe20-47a1-c618-20657da60382",
        "colab": {
          "base_uri": "https://localhost:8080/"
        }
      },
      "id": "nYPCCxVF10iR",
      "execution_count": null,
      "outputs": [
        {
          "output_type": "stream",
          "name": "stdout",
          "text": [
            "Model: \"sequential\"\n",
            "_________________________________________________________________\n",
            " Layer (type)                Output Shape              Param #   \n",
            "=================================================================\n",
            " dense (Dense)               (None, 10)                7850      \n",
            "                                                                 \n",
            " dense_1 (Dense)             (None, 10)                110       \n",
            "                                                                 \n",
            "=================================================================\n",
            "Total params: 7,960\n",
            "Trainable params: 7,960\n",
            "Non-trainable params: 0\n",
            "_________________________________________________________________\n"
          ]
        }
      ]
    },
    {
      "cell_type": "code",
      "source": [
        "#Representar\n",
        "import tensorflow as tf\n",
        "from tensorflow import keras\n",
        "from tensorflow.keras import layers\n",
        "keras.utils.plot_model(network, \"my_first_model.png\", show_shapes=True)"
      ],
      "metadata": {
        "id": "7q0sDOHa2Y4W",
        "outputId": "c1dcb164-b1ba-4fc5-a1fc-f3717b5bd908",
        "colab": {
          "base_uri": "https://localhost:8080/",
          "height": 312
        }
      },
      "id": "7q0sDOHa2Y4W",
      "execution_count": null,
      "outputs": [
        {
          "output_type": "execute_result",
          "data": {
            "image/png": "[encoded data removed]",
            "text/plain": [
              "<IPython.core.display.Image object>"
            ]
          },
          "metadata": {},
          "execution_count": 12
        }
      ]
    },
    {
      "cell_type": "code",
      "source": [
        "network.compile(optimizer='sgd',\n",
        "                loss='categorical_crossentropy',\n",
        "                metrics=['accuracy'])"
      ],
      "metadata": {
        "id": "Fezp-Ihw2jeE"
      },
      "id": "Fezp-Ihw2jeE",
      "execution_count": null,
      "outputs": []
    },
    {
      "cell_type": "code",
      "source": [
        "# 7.- ENTRENAMOS LA RED CON EL JUEGO DE DATOS DE ENTRENAMIENTO\n",
        "network.fit(train_images, one_hot_train_labels, epochs=5, batch_size=128)"
      ],
      "metadata": {
        "id": "XQ1kFByM3bIs",
        "outputId": "c055db66-9329-449d-dd86-90ce45cf077f",
        "colab": {
          "base_uri": "https://localhost:8080/"
        }
      },
      "id": "XQ1kFByM3bIs",
      "execution_count": null,
      "outputs": [
        {
          "output_type": "stream",
          "name": "stdout",
          "text": [
            "Epoch 1/5\n",
            "469/469 [==============================] - 2s 2ms/step - loss: 1.2531 - accuracy: 0.5969\n",
            "Epoch 2/5\n",
            "469/469 [==============================] - 1s 2ms/step - loss: 0.7708 - accuracy: 0.7383\n",
            "Epoch 3/5\n",
            "469/469 [==============================] - 1s 2ms/step - loss: 0.6681 - accuracy: 0.7781\n",
            "Epoch 4/5\n",
            "469/469 [==============================] - 1s 2ms/step - loss: 0.6136 - accuracy: 0.7977\n",
            "Epoch 5/5\n",
            "469/469 [==============================] - 1s 2ms/step - loss: 0.5791 - accuracy: 0.8097\n"
          ]
        },
        {
          "output_type": "execute_result",
          "data": {
            "text/plain": [
              "<keras.callbacks.History at 0x7f0e2a3a9dd0>"
            ]
          },
          "metadata": {},
          "execution_count": 14
        }
      ]
    },
    {
      "cell_type": "code",
      "source": [
        "def plot_image(i, predictions_array, true_label, img):\n",
        "  predictions_array, true_label, img = predictions_array, true_label[i], img[i]\n",
        "  plt.grid(False)\n",
        "  plt.xticks([])\n",
        "  plt.yticks([])\n",
        "\n",
        "  plt.imshow(img, cmap=plt.cm.binary)\n",
        "  predicted_label = np.argmax (predictions_array)\n",
        "  if predicted_label== true_label:\n",
        "    color = 'blue' \n",
        "  else:\n",
        "    color = 'red'\n",
        "  plt.xlabel(\"{} {:2.0f}% ({})\".format(test_labels[predicted_label],\n",
        "                                100*np.max(predictions_array),\n",
        "                                test_labels[true_label]),\n",
        "                                color=color)\n",
        "def plot_value_array(i, predictions_array, true_label):\n",
        "  predictions_array, true_label = predictions_array, true_label[i]\n",
        "  plt.grid(False)\n",
        "  plt.xticks(range(10))\n",
        "  plt.yticks([])\n",
        "  thisplot = plt.bar(range(10), predictions_array, color=\"#777777\")\n",
        "  plt.ylim([0, 1])\n",
        "  predicted_label = np.argmax(predictions_array)\n",
        "  thisplot[predicted_label].set_color('red')\n",
        "  thisplot[true_label].set_color('blue')\n",
        " "
      ],
      "metadata": {
        "id": "RGIVmAO1WEHM"
      },
      "id": "RGIVmAO1WEHM",
      "execution_count": null,
      "outputs": []
    },
    {
      "cell_type": "markdown",
      "source": [
        "Ejemplo de uso para ver la predicción de la 6ª figura de las imágenes de test."
      ],
      "metadata": {
        "id": "eak8oC--Xccz"
      },
      "id": "eak8oC--Xccz"
    },
    {
      "cell_type": "code",
      "source": [
        "predictions = network.predict(test_images)"
      ],
      "metadata": {
        "id": "kC_0jliLYoj1",
        "outputId": "8373b1fb-f422-4754-d132-82be9c7979e4",
        "colab": {
          "base_uri": "https://localhost:8080/"
        }
      },
      "id": "kC_0jliLYoj1",
      "execution_count": null,
      "outputs": [
        {
          "output_type": "stream",
          "name": "stdout",
          "text": [
            "313/313 [==============================] - 0s 1ms/step\n"
          ]
        }
      ]
    },
    {
      "cell_type": "code",
      "source": [
        "i = 0\n",
        "plt.figure(figsize=(6,3))\n",
        "plt.subplot(1,2,1)\n",
        "plot_image(1000, predictions[1000], test_labels, test_images.reshape(10000,28,28))\n",
        "plt.subplot(1,2,2)\n",
        "plot_value_array(1000, predictions[1000], test_labels)\n",
        "plt.show()"
      ],
      "metadata": {
        "colab": {
          "base_uri": "https://localhost:8080/",
          "height": 211
        },
        "id": "lQBJsWXNXXI_",
        "outputId": "5e07827f-6a16-45a5-da62-66a868c3de7b"
      },
      "id": "lQBJsWXNXXI_",
      "execution_count": null,
      "outputs": [
        {
          "output_type": "display_data",
          "data": {
            "text/plain": [
              "<Figure size 432x216 with 2 Axes>"
            ],
            "image/png": "[encoded data removed]"
          },
          "metadata": {
            "needs_background": "light"
          }
        }
      ]
    },
    {
      "cell_type": "markdown",
      "source": [
        "CASO 2"
      ],
      "metadata": {
        "id": "4eklmN5C18qe"
      },
      "id": "4eklmN5C18qe"
    },
    {
      "cell_type": "code",
      "source": [
        "from keras import models\n",
        "from keras import layers\n",
        "network2 = models.Sequential()\n",
        "network2.add(layers.Dense(10, activation='relu', input_shape=(28*28,)))\n",
        "network2.add(layers.Dense(10, activation='softmax'))\n",
        "network2.summary()"
      ],
      "metadata": {
        "id": "EPzdz9a21-Wm",
        "outputId": "c7c4e33f-04a8-4939-fcff-70a4bb93f8ff",
        "colab": {
          "base_uri": "https://localhost:8080/"
        }
      },
      "id": "EPzdz9a21-Wm",
      "execution_count": null,
      "outputs": [
        {
          "output_type": "stream",
          "name": "stdout",
          "text": [
            "Model: \"sequential_1\"\n",
            "_________________________________________________________________\n",
            " Layer (type)                Output Shape              Param #   \n",
            "=================================================================\n",
            " dense_2 (Dense)             (None, 10)                7850      \n",
            "                                                                 \n",
            " dense_3 (Dense)             (None, 10)                110       \n",
            "                                                                 \n",
            "=================================================================\n",
            "Total params: 7,960\n",
            "Trainable params: 7,960\n",
            "Non-trainable params: 0\n",
            "_________________________________________________________________\n"
          ]
        }
      ]
    },
    {
      "cell_type": "code",
      "source": [
        "#Representar\n",
        "import tensorflow as tf\n",
        "from tensorflow import keras\n",
        "from tensorflow.keras import layers\n",
        "keras.utils.plot_model(network2, \"my_first_model.png\", show_shapes=True)"
      ],
      "metadata": {
        "id": "cR6i6gvDCPXy",
        "outputId": "b8e54be7-6816-4797-fdb5-1443d8829f26",
        "colab": {
          "base_uri": "https://localhost:8080/",
          "height": 312
        }
      },
      "id": "cR6i6gvDCPXy",
      "execution_count": null,
      "outputs": [
        {
          "output_type": "execute_result",
          "data": {
            "image/png": "[encoded data removed]",
            "text/plain": [
              "<IPython.core.display.Image object>"
            ]
          },
          "metadata": {},
          "execution_count": 19
        }
      ]
    },
    {
      "cell_type": "code",
      "source": [
        "network2.compile(optimizer='rmsprop',\n",
        "                loss='categorical_crossentropy',\n",
        "                metrics=['accuracy'])"
      ],
      "metadata": {
        "id": "0zuKqRWcCRW-"
      },
      "id": "0zuKqRWcCRW-",
      "execution_count": null,
      "outputs": []
    },
    {
      "cell_type": "code",
      "source": [
        "# 7.- ENTRENAMOS LA RED CON EL JUEGO DE DATOS DE ENTRENAMIENTO\n",
        "network2.fit(train_images, one_hot_train_labels, epochs=5, batch_size=128)"
      ],
      "metadata": {
        "id": "hZd6Rt_6CXEE",
        "outputId": "aa00c376-7197-47e6-a5d8-3e585b56a5d0",
        "colab": {
          "base_uri": "https://localhost:8080/"
        }
      },
      "id": "hZd6Rt_6CXEE",
      "execution_count": null,
      "outputs": [
        {
          "output_type": "stream",
          "name": "stdout",
          "text": [
            "Epoch 1/5\n",
            "469/469 [==============================] - 2s 2ms/step - loss: 0.8441 - accuracy: 0.7419\n",
            "Epoch 2/5\n",
            "469/469 [==============================] - 1s 2ms/step - loss: 0.5068 - accuracy: 0.8260\n",
            "Epoch 3/5\n",
            "469/469 [==============================] - 1s 2ms/step - loss: 0.4639 - accuracy: 0.8410\n",
            "Epoch 4/5\n",
            "469/469 [==============================] - 1s 2ms/step - loss: 0.4427 - accuracy: 0.8478\n",
            "Epoch 5/5\n",
            "469/469 [==============================] - 1s 2ms/step - loss: 0.4297 - accuracy: 0.8514\n"
          ]
        },
        {
          "output_type": "execute_result",
          "data": {
            "text/plain": [
              "<keras.callbacks.History at 0x7f0e28969c90>"
            ]
          },
          "metadata": {},
          "execution_count": 21
        }
      ]
    },
    {
      "cell_type": "code",
      "source": [
        "network2.fit(train_images, one_hot_train_labels, epochs=25, batch_size=128)"
      ],
      "metadata": {
        "id": "X8WUqWUR8ley",
        "outputId": "79e7f41c-401a-4d02-965f-dacf9ad7871b",
        "colab": {
          "base_uri": "https://localhost:8080/"
        }
      },
      "id": "X8WUqWUR8ley",
      "execution_count": null,
      "outputs": [
        {
          "output_type": "stream",
          "name": "stdout",
          "text": [
            "Epoch 1/25\n",
            "469/469 [==============================] - 1s 2ms/step - loss: 0.4204 - accuracy: 0.8557\n",
            "Epoch 2/25\n",
            "469/469 [==============================] - 1s 2ms/step - loss: 0.4138 - accuracy: 0.8566\n",
            "Epoch 3/25\n",
            "469/469 [==============================] - 1s 2ms/step - loss: 0.4065 - accuracy: 0.8591\n",
            "Epoch 4/25\n",
            "469/469 [==============================] - 1s 2ms/step - loss: 0.4009 - accuracy: 0.8612\n",
            "Epoch 5/25\n",
            "469/469 [==============================] - 1s 2ms/step - loss: 0.3961 - accuracy: 0.8625\n",
            "Epoch 6/25\n",
            "469/469 [==============================] - 1s 2ms/step - loss: 0.3932 - accuracy: 0.8641\n",
            "Epoch 7/25\n",
            "469/469 [==============================] - 1s 2ms/step - loss: 0.3893 - accuracy: 0.8646\n",
            "Epoch 8/25\n",
            "469/469 [==============================] - 1s 2ms/step - loss: 0.3859 - accuracy: 0.8659\n",
            "Epoch 9/25\n",
            "469/469 [==============================] - 1s 2ms/step - loss: 0.3830 - accuracy: 0.8675\n",
            "Epoch 10/25\n",
            "469/469 [==============================] - 1s 2ms/step - loss: 0.3802 - accuracy: 0.8672\n",
            "Epoch 11/25\n",
            "469/469 [==============================] - 1s 2ms/step - loss: 0.3775 - accuracy: 0.8686\n",
            "Epoch 12/25\n",
            "469/469 [==============================] - 1s 2ms/step - loss: 0.3754 - accuracy: 0.8687\n",
            "Epoch 13/25\n",
            "469/469 [==============================] - 1s 2ms/step - loss: 0.3728 - accuracy: 0.8697\n",
            "Epoch 14/25\n",
            "469/469 [==============================] - 1s 2ms/step - loss: 0.3720 - accuracy: 0.8694\n",
            "Epoch 15/25\n",
            "469/469 [==============================] - 1s 2ms/step - loss: 0.3694 - accuracy: 0.8704\n",
            "Epoch 16/25\n",
            "469/469 [==============================] - 1s 2ms/step - loss: 0.3678 - accuracy: 0.8718\n",
            "Epoch 17/25\n",
            "469/469 [==============================] - 1s 2ms/step - loss: 0.3668 - accuracy: 0.8715\n",
            "Epoch 18/25\n",
            "469/469 [==============================] - 1s 2ms/step - loss: 0.3641 - accuracy: 0.8719\n",
            "Epoch 19/25\n",
            "469/469 [==============================] - 1s 2ms/step - loss: 0.3628 - accuracy: 0.8730\n",
            "Epoch 20/25\n",
            "469/469 [==============================] - 1s 2ms/step - loss: 0.3607 - accuracy: 0.8737\n",
            "Epoch 21/25\n",
            "469/469 [==============================] - 1s 2ms/step - loss: 0.3602 - accuracy: 0.8741\n",
            "Epoch 22/25\n",
            "469/469 [==============================] - 1s 2ms/step - loss: 0.3592 - accuracy: 0.8740\n",
            "Epoch 23/25\n",
            "469/469 [==============================] - 1s 2ms/step - loss: 0.3567 - accuracy: 0.8743\n",
            "Epoch 24/25\n",
            "469/469 [==============================] - 1s 2ms/step - loss: 0.3567 - accuracy: 0.8744\n",
            "Epoch 25/25\n",
            "469/469 [==============================] - 1s 2ms/step - loss: 0.3552 - accuracy: 0.8746\n"
          ]
        },
        {
          "output_type": "execute_result",
          "data": {
            "text/plain": [
              "<keras.callbacks.History at 0x7f0e2a0dcc10>"
            ]
          },
          "metadata": {},
          "execution_count": 22
        }
      ]
    },
    {
      "cell_type": "markdown",
      "source": [
        "CASO 3"
      ],
      "metadata": {
        "id": "si975wrD1_FG"
      },
      "id": "si975wrD1_FG"
    },
    {
      "cell_type": "code",
      "source": [
        "from keras import models\n",
        "from keras import layers\n",
        "network3 = models.Sequential()\n",
        "network3.add(layers.Dense(10, activation='sigmoid', input_shape=(28*28,)))\n",
        "network3.add(layers.Dense(10, activation='softmax'))\n",
        "network3.summary()"
      ],
      "metadata": {
        "id": "pc_7Or_m2ATs",
        "outputId": "1c319c05-6dba-4970-d37d-04b7e4166fcd",
        "colab": {
          "base_uri": "https://localhost:8080/"
        }
      },
      "id": "pc_7Or_m2ATs",
      "execution_count": null,
      "outputs": [
        {
          "output_type": "stream",
          "name": "stdout",
          "text": [
            "Model: \"sequential_6\"\n",
            "_________________________________________________________________\n",
            " Layer (type)                Output Shape              Param #   \n",
            "=================================================================\n",
            " dense_12 (Dense)            (None, 10)                7850      \n",
            "                                                                 \n",
            " dense_13 (Dense)            (None, 10)                110       \n",
            "                                                                 \n",
            "=================================================================\n",
            "Total params: 7,960\n",
            "Trainable params: 7,960\n",
            "Non-trainable params: 0\n",
            "_________________________________________________________________\n"
          ]
        }
      ]
    },
    {
      "cell_type": "code",
      "source": [
        "#Representar\n",
        "import tensorflow as tf\n",
        "from tensorflow import keras\n",
        "from tensorflow.keras import layers\n",
        "keras.utils.plot_model(network3, \"my_first_model.png\", show_shapes=True)"
      ],
      "metadata": {
        "id": "fbQhbV59EDkG",
        "outputId": "4c30fdc0-3150-46c5-d74d-9a0ce2aa5fe1",
        "colab": {
          "base_uri": "https://localhost:8080/",
          "height": 312
        }
      },
      "id": "fbQhbV59EDkG",
      "execution_count": null,
      "outputs": [
        {
          "output_type": "execute_result",
          "data": {
            "image/png": "[encoded data removed]",
            "text/plain": [
              "<IPython.core.display.Image object>"
            ]
          },
          "metadata": {},
          "execution_count": 81
        }
      ]
    },
    {
      "cell_type": "code",
      "source": [
        "network3.compile(optimizer='sgd',\n",
        "                loss='categorical_crossentropy',\n",
        "                metrics=['accuracy'])"
      ],
      "metadata": {
        "id": "tD2Wc6ZVENl-"
      },
      "id": "tD2Wc6ZVENl-",
      "execution_count": null,
      "outputs": []
    },
    {
      "cell_type": "code",
      "source": [
        "# 7.- ENTRENAMOS LA RED CON EL JUEGO DE DATOS DE ENTRENAMIENTO\n",
        "network3.fit(train_images, one_hot_train_labels, epochs=5, batch_size=128)"
      ],
      "metadata": {
        "id": "3rm0Rj5XEXvA",
        "outputId": "19fd40d8-4578-4b82-cb42-ea506eb2cc0c",
        "colab": {
          "base_uri": "https://localhost:8080/"
        }
      },
      "id": "3rm0Rj5XEXvA",
      "execution_count": null,
      "outputs": [
        {
          "output_type": "stream",
          "name": "stdout",
          "text": [
            "Epoch 1/5\n",
            "469/469 [==============================] - 2s 3ms/step - loss: 2.0856 - accuracy: 0.3056\n",
            "Epoch 2/5\n",
            "469/469 [==============================] - 2s 3ms/step - loss: 1.7692 - accuracy: 0.5328\n",
            "Epoch 3/5\n",
            "469/469 [==============================] - 2s 3ms/step - loss: 1.5830 - accuracy: 0.5608\n",
            "Epoch 4/5\n",
            "469/469 [==============================] - 2s 3ms/step - loss: 1.4461 - accuracy: 0.5834\n",
            "Epoch 5/5\n",
            "469/469 [==============================] - 1s 3ms/step - loss: 1.3388 - accuracy: 0.6047\n"
          ]
        },
        {
          "output_type": "execute_result",
          "data": {
            "text/plain": [
              "<keras.callbacks.History at 0x7f1935cfc890>"
            ]
          },
          "metadata": {},
          "execution_count": 83
        }
      ]
    },
    {
      "cell_type": "markdown",
      "source": [
        "CASO 4"
      ],
      "metadata": {
        "id": "QUpYmKrd2BEN"
      },
      "id": "QUpYmKrd2BEN"
    },
    {
      "cell_type": "code",
      "source": [
        "from keras import models\n",
        "from keras import layers\n",
        "network4 = models.Sequential()\n",
        "network4.add(layers.Dense(10, activation='sigmoid', input_shape=(28*28,)))\n",
        "network4.add(layers.Dense(10, activation='softmax'))\n",
        "network4.summary()"
      ],
      "metadata": {
        "id": "UOSR9miO2CpC",
        "outputId": "f3520519-0ac4-408a-aff8-98c53559ebc6",
        "colab": {
          "base_uri": "https://localhost:8080/"
        }
      },
      "id": "UOSR9miO2CpC",
      "execution_count": null,
      "outputs": [
        {
          "output_type": "stream",
          "name": "stdout",
          "text": [
            "Model: \"sequential_7\"\n",
            "_________________________________________________________________\n",
            " Layer (type)                Output Shape              Param #   \n",
            "=================================================================\n",
            " dense_14 (Dense)            (None, 10)                7850      \n",
            "                                                                 \n",
            " dense_15 (Dense)            (None, 10)                110       \n",
            "                                                                 \n",
            "=================================================================\n",
            "Total params: 7,960\n",
            "Trainable params: 7,960\n",
            "Non-trainable params: 0\n",
            "_________________________________________________________________\n"
          ]
        }
      ]
    },
    {
      "cell_type": "code",
      "source": [
        "#Representar\n",
        "import tensorflow as tf\n",
        "from tensorflow import keras\n",
        "from tensorflow.keras import layers\n",
        "keras.utils.plot_model(network4, \"my_first_model.png\", show_shapes=True)"
      ],
      "metadata": {
        "id": "Ojd115gNEFPz",
        "outputId": "616a68a4-2d08-4e6f-902b-cb9027fae1d8",
        "colab": {
          "base_uri": "https://localhost:8080/",
          "height": 312
        }
      },
      "id": "Ojd115gNEFPz",
      "execution_count": null,
      "outputs": [
        {
          "output_type": "execute_result",
          "data": {
            "image/png": "[encoded data removed]",
            "text/plain": [
              "<IPython.core.display.Image object>"
            ]
          },
          "metadata": {},
          "execution_count": 85
        }
      ]
    },
    {
      "cell_type": "code",
      "source": [
        "network4.compile(optimizer='rmsprop',\n",
        "                loss='categorical_crossentropy',\n",
        "                metrics=['accuracy'])"
      ],
      "metadata": {
        "id": "AgGQWU-nEPzZ"
      },
      "id": "AgGQWU-nEPzZ",
      "execution_count": null,
      "outputs": []
    },
    {
      "cell_type": "code",
      "source": [
        "# 7.- ENTRENAMOS LA RED CON EL JUEGO DE DATOS DE ENTRENAMIENTO\n",
        "network4.fit(train_images, one_hot_train_labels, epochs=5, batch_size=128)"
      ],
      "metadata": {
        "id": "0fJQOi68EY8s",
        "outputId": "5e873b41-b5c6-462a-fde6-df8cf6839885",
        "colab": {
          "base_uri": "https://localhost:8080/"
        }
      },
      "id": "0fJQOi68EY8s",
      "execution_count": null,
      "outputs": [
        {
          "output_type": "stream",
          "name": "stdout",
          "text": [
            "Epoch 1/5\n",
            "469/469 [==============================] - 2s 3ms/step - loss: 1.3320 - accuracy: 0.6514\n",
            "Epoch 2/5\n",
            "469/469 [==============================] - 2s 3ms/step - loss: 0.8074 - accuracy: 0.7598\n",
            "Epoch 3/5\n",
            "469/469 [==============================] - 2s 3ms/step - loss: 0.6270 - accuracy: 0.7964\n",
            "Epoch 4/5\n",
            "469/469 [==============================] - 2s 3ms/step - loss: 0.5441 - accuracy: 0.8220\n",
            "Epoch 5/5\n",
            "469/469 [==============================] - 2s 3ms/step - loss: 0.5000 - accuracy: 0.8331\n"
          ]
        },
        {
          "output_type": "execute_result",
          "data": {
            "text/plain": [
              "<keras.callbacks.History at 0x7f1935c53910>"
            ]
          },
          "metadata": {},
          "execution_count": 87
        }
      ]
    },
    {
      "cell_type": "markdown",
      "source": [
        "CASO 5"
      ],
      "metadata": {
        "id": "Xc2-aI5V2DV6"
      },
      "id": "Xc2-aI5V2DV6"
    },
    {
      "cell_type": "code",
      "source": [
        "from keras import models\n",
        "from keras import layers\n",
        "network5 = models.Sequential()\n",
        "network5.add(layers.Dense(512, activation='relu', input_shape=(28*28,)))\n",
        "network5.add(layers.Dense(10, activation='softmax'))\n",
        "network5.summary()"
      ],
      "metadata": {
        "id": "J9Wky-l42ERV",
        "outputId": "9cac8320-b225-4560-ed6f-d1e036bed050",
        "colab": {
          "base_uri": "https://localhost:8080/"
        }
      },
      "id": "J9Wky-l42ERV",
      "execution_count": null,
      "outputs": [
        {
          "output_type": "stream",
          "name": "stdout",
          "text": [
            "Model: \"sequential_8\"\n",
            "_________________________________________________________________\n",
            " Layer (type)                Output Shape              Param #   \n",
            "=================================================================\n",
            " dense_16 (Dense)            (None, 512)               401920    \n",
            "                                                                 \n",
            " dense_17 (Dense)            (None, 10)                5130      \n",
            "                                                                 \n",
            "=================================================================\n",
            "Total params: 407,050\n",
            "Trainable params: 407,050\n",
            "Non-trainable params: 0\n",
            "_________________________________________________________________\n"
          ]
        }
      ]
    },
    {
      "cell_type": "code",
      "source": [
        "#Representar\n",
        "import tensorflow as tf\n",
        "from tensorflow import keras\n",
        "from tensorflow.keras import layers\n",
        "keras.utils.plot_model(network5, \"my_first_model.png\", show_shapes=True)"
      ],
      "metadata": {
        "id": "1WQO3JGMEGJl",
        "outputId": "5c75254a-85bc-43ba-ef01-832c9e6f8dfd",
        "colab": {
          "base_uri": "https://localhost:8080/",
          "height": 312
        }
      },
      "id": "1WQO3JGMEGJl",
      "execution_count": null,
      "outputs": [
        {
          "output_type": "execute_result",
          "data": {
            "image/png": "[encoded data removed]",
            "text/plain": [
              "<IPython.core.display.Image object>"
            ]
          },
          "metadata": {},
          "execution_count": 89
        }
      ]
    },
    {
      "cell_type": "code",
      "source": [
        "network5.compile(optimizer='sgd',\n",
        "                loss='categorical_crossentropy',\n",
        "                metrics=['accuracy'])"
      ],
      "metadata": {
        "id": "2lncWX7pERH9"
      },
      "id": "2lncWX7pERH9",
      "execution_count": null,
      "outputs": []
    },
    {
      "cell_type": "code",
      "source": [
        "# 7.- ENTRENAMOS LA RED CON EL JUEGO DE DATOS DE ENTRENAMIENTO\n",
        "network5.fit(train_images, one_hot_train_labels, epochs=5, batch_size=128)"
      ],
      "metadata": {
        "id": "E0qz7MmkEaNb",
        "outputId": "bef6b832-16b6-4baa-b6a7-6a660434ea26",
        "colab": {
          "base_uri": "https://localhost:8080/"
        }
      },
      "id": "E0qz7MmkEaNb",
      "execution_count": null,
      "outputs": [
        {
          "output_type": "stream",
          "name": "stdout",
          "text": [
            "Epoch 1/5\n",
            "469/469 [==============================] - 5s 10ms/step - loss: 1.0351 - accuracy: 0.6810\n",
            "Epoch 2/5\n",
            "469/469 [==============================] - 4s 9ms/step - loss: 0.6671 - accuracy: 0.7869\n",
            "Epoch 3/5\n",
            "469/469 [==============================] - 4s 9ms/step - loss: 0.5881 - accuracy: 0.8099\n",
            "Epoch 4/5\n",
            "469/469 [==============================] - 4s 9ms/step - loss: 0.5453 - accuracy: 0.8213\n",
            "Epoch 5/5\n",
            "469/469 [==============================] - 4s 9ms/step - loss: 0.5179 - accuracy: 0.8277\n"
          ]
        },
        {
          "output_type": "execute_result",
          "data": {
            "text/plain": [
              "<keras.callbacks.History at 0x7f1935af86d0>"
            ]
          },
          "metadata": {},
          "execution_count": 91
        }
      ]
    },
    {
      "cell_type": "markdown",
      "source": [
        "CASO 6"
      ],
      "metadata": {
        "id": "i7D1ybn92E-j"
      },
      "id": "i7D1ybn92E-j"
    },
    {
      "cell_type": "code",
      "source": [
        "from keras import models\n",
        "from keras import layers\n",
        "network6 = models.Sequential()\n",
        "network6.add(layers.Dense(512, activation='relu', input_shape=(28*28,)))\n",
        "network6.add(layers.Dense(10, activation='softmax'))\n",
        "network6.summary()"
      ],
      "metadata": {
        "id": "Q3EMUPAg2Frk",
        "outputId": "382b4f40-7ffb-4ca1-99ab-e017788f8b25",
        "colab": {
          "base_uri": "https://localhost:8080/"
        }
      },
      "id": "Q3EMUPAg2Frk",
      "execution_count": null,
      "outputs": [
        {
          "output_type": "stream",
          "name": "stdout",
          "text": [
            "Model: \"sequential_9\"\n",
            "_________________________________________________________________\n",
            " Layer (type)                Output Shape              Param #   \n",
            "=================================================================\n",
            " dense_18 (Dense)            (None, 512)               401920    \n",
            "                                                                 \n",
            " dense_19 (Dense)            (None, 10)                5130      \n",
            "                                                                 \n",
            "=================================================================\n",
            "Total params: 407,050\n",
            "Trainable params: 407,050\n",
            "Non-trainable params: 0\n",
            "_________________________________________________________________\n"
          ]
        }
      ]
    },
    {
      "cell_type": "code",
      "source": [
        "#Representar\n",
        "import tensorflow as tf\n",
        "from tensorflow import keras\n",
        "from tensorflow.keras import layers\n",
        "keras.utils.plot_model(network6, \"my_first_model.png\", show_shapes=True)"
      ],
      "metadata": {
        "id": "cmq2asl2EHDS",
        "outputId": "61110f18-e023-45a3-f788-3c2407cfd07c",
        "colab": {
          "base_uri": "https://localhost:8080/",
          "height": 312
        }
      },
      "id": "cmq2asl2EHDS",
      "execution_count": null,
      "outputs": [
        {
          "output_type": "execute_result",
          "data": {
            "image/png": "[encoded data removed]",
            "text/plain": [
              "<IPython.core.display.Image object>"
            ]
          },
          "metadata": {},
          "execution_count": 93
        }
      ]
    },
    {
      "cell_type": "code",
      "source": [
        "network6.compile(optimizer='rmsprop',\n",
        "                loss='categorical_crossentropy',\n",
        "                metrics=['accuracy'])"
      ],
      "metadata": {
        "id": "XCH5Y60QESTC"
      },
      "id": "XCH5Y60QESTC",
      "execution_count": null,
      "outputs": []
    },
    {
      "cell_type": "code",
      "source": [
        "# 7.- ENTRENAMOS LA RED CON EL JUEGO DE DATOS DE ENTRENAMIENTO\n",
        "network6.fit(train_images, one_hot_train_labels, epochs=5, batch_size=128)"
      ],
      "metadata": {
        "id": "HcxTvfyqEbbz",
        "outputId": "6db8a61d-131e-495e-c4da-cb9a038b6d6b",
        "colab": {
          "base_uri": "https://localhost:8080/"
        }
      },
      "id": "HcxTvfyqEbbz",
      "execution_count": null,
      "outputs": [
        {
          "output_type": "stream",
          "name": "stdout",
          "text": [
            "Epoch 1/5\n",
            "469/469 [==============================] - 6s 12ms/step - loss: 0.5558 - accuracy: 0.8026\n",
            "Epoch 2/5\n",
            "469/469 [==============================] - 6s 12ms/step - loss: 0.3833 - accuracy: 0.8595\n",
            "Epoch 3/5\n",
            "469/469 [==============================] - 6s 12ms/step - loss: 0.3371 - accuracy: 0.8764\n",
            "Epoch 4/5\n",
            "469/469 [==============================] - 6s 13ms/step - loss: 0.3108 - accuracy: 0.8855\n",
            "Epoch 5/5\n",
            "469/469 [==============================] - 6s 12ms/step - loss: 0.2925 - accuracy: 0.8914\n"
          ]
        },
        {
          "output_type": "execute_result",
          "data": {
            "text/plain": [
              "<keras.callbacks.History at 0x7f1935c53a10>"
            ]
          },
          "metadata": {},
          "execution_count": 95
        }
      ]
    },
    {
      "cell_type": "markdown",
      "source": [
        "CASO 7"
      ],
      "metadata": {
        "id": "4OdWbAE22Gz7"
      },
      "id": "4OdWbAE22Gz7"
    },
    {
      "cell_type": "code",
      "source": [
        "from keras import models\n",
        "from keras import layers\n",
        "network7 = models.Sequential()\n",
        "network7.add(layers.Dense(512, activation='sigmoid', input_shape=(28*28,)))\n",
        "network7.add(layers.Dense(10, activation='softmax'))\n",
        "network7.summary()"
      ],
      "metadata": {
        "id": "o8eVZNk22H6M",
        "outputId": "172cc488-aae2-455b-bf3a-2d9072ddf335",
        "colab": {
          "base_uri": "https://localhost:8080/"
        }
      },
      "id": "o8eVZNk22H6M",
      "execution_count": null,
      "outputs": [
        {
          "output_type": "stream",
          "name": "stdout",
          "text": [
            "Model: \"sequential_10\"\n",
            "_________________________________________________________________\n",
            " Layer (type)                Output Shape              Param #   \n",
            "=================================================================\n",
            " dense_20 (Dense)            (None, 512)               401920    \n",
            "                                                                 \n",
            " dense_21 (Dense)            (None, 10)                5130      \n",
            "                                                                 \n",
            "=================================================================\n",
            "Total params: 407,050\n",
            "Trainable params: 407,050\n",
            "Non-trainable params: 0\n",
            "_________________________________________________________________\n"
          ]
        }
      ]
    },
    {
      "cell_type": "code",
      "source": [
        "#Representar\n",
        "import tensorflow as tf\n",
        "from tensorflow import keras\n",
        "from tensorflow.keras import layers\n",
        "keras.utils.plot_model(network7, \"my_first_model.png\", show_shapes=True)"
      ],
      "metadata": {
        "id": "Nju7oxvtEIr-",
        "outputId": "af3ad1af-9693-4427-c432-aa025003527d",
        "colab": {
          "base_uri": "https://localhost:8080/",
          "height": 312
        }
      },
      "id": "Nju7oxvtEIr-",
      "execution_count": null,
      "outputs": [
        {
          "output_type": "execute_result",
          "data": {
            "image/png": "[encoded data removed]",
            "text/plain": [
              "<IPython.core.display.Image object>"
            ]
          },
          "metadata": {},
          "execution_count": 97
        }
      ]
    },
    {
      "cell_type": "code",
      "source": [
        "network7.compile(optimizer='sgd',\n",
        "                loss='categorical_crossentropy',\n",
        "                metrics=['accuracy'])"
      ],
      "metadata": {
        "id": "Nkl8tjGoETWS"
      },
      "id": "Nkl8tjGoETWS",
      "execution_count": null,
      "outputs": []
    },
    {
      "cell_type": "code",
      "source": [
        "# 7.- ENTRENAMOS LA RED CON EL JUEGO DE DATOS DE ENTRENAMIENTO\n",
        "network7.fit(train_images, one_hot_train_labels, epochs=5, batch_size=128)"
      ],
      "metadata": {
        "id": "yKwPir_NEdbd",
        "outputId": "791e3240-c09d-441d-9b48-4ed2ffdc2731",
        "colab": {
          "base_uri": "https://localhost:8080/"
        }
      },
      "id": "yKwPir_NEdbd",
      "execution_count": null,
      "outputs": [
        {
          "output_type": "stream",
          "name": "stdout",
          "text": [
            "Epoch 1/5\n",
            "469/469 [==============================] - 5s 10ms/step - loss: 1.7185 - accuracy: 0.5637\n",
            "Epoch 2/5\n",
            "469/469 [==============================] - 4s 9ms/step - loss: 1.1419 - accuracy: 0.7053\n",
            "Epoch 3/5\n",
            "469/469 [==============================] - 5s 10ms/step - loss: 0.9333 - accuracy: 0.7282\n",
            "Epoch 4/5\n",
            "469/469 [==============================] - 5s 10ms/step - loss: 0.8289 - accuracy: 0.7416\n",
            "Epoch 5/5\n",
            "469/469 [==============================] - 5s 10ms/step - loss: 0.7661 - accuracy: 0.7507\n"
          ]
        },
        {
          "output_type": "execute_result",
          "data": {
            "text/plain": [
              "<keras.callbacks.History at 0x7f19358aee10>"
            ]
          },
          "metadata": {},
          "execution_count": 99
        }
      ]
    },
    {
      "cell_type": "markdown",
      "source": [
        "CASO 8"
      ],
      "metadata": {
        "id": "7Kcc87l82JAa"
      },
      "id": "7Kcc87l82JAa"
    },
    {
      "cell_type": "code",
      "source": [
        "from keras import models\n",
        "from keras import layers\n",
        "network8 = models.Sequential()\n",
        "network8.add(layers.Dense(512, activation='sigmoid', input_shape=(28*28,)))\n",
        "network8.add(layers.Dense(10, activation='softmax'))\n",
        "network8.summary()"
      ],
      "metadata": {
        "id": "8kJBhvdb2M9W",
        "outputId": "8c4ce61c-7a18-4e4b-d620-9f382a5ecc41",
        "colab": {
          "base_uri": "https://localhost:8080/"
        }
      },
      "id": "8kJBhvdb2M9W",
      "execution_count": null,
      "outputs": [
        {
          "output_type": "stream",
          "name": "stdout",
          "text": [
            "Model: \"sequential_12\"\n",
            "_________________________________________________________________\n",
            " Layer (type)                Output Shape              Param #   \n",
            "=================================================================\n",
            " dense_23 (Dense)            (None, 512)               401920    \n",
            "                                                                 \n",
            " dense_24 (Dense)            (None, 10)                5130      \n",
            "                                                                 \n",
            "=================================================================\n",
            "Total params: 407,050\n",
            "Trainable params: 407,050\n",
            "Non-trainable params: 0\n",
            "_________________________________________________________________\n"
          ]
        }
      ]
    },
    {
      "cell_type": "code",
      "source": [
        "#Representar\n",
        "import tensorflow as tf\n",
        "from tensorflow import keras\n",
        "from tensorflow.keras import layers\n",
        "keras.utils.plot_model(network8, \"my_first_model.png\", show_shapes=True)"
      ],
      "metadata": {
        "id": "CHDYmjnVEJ61",
        "outputId": "ad01b89a-8e13-46a1-aed1-1e2280146262",
        "colab": {
          "base_uri": "https://localhost:8080/",
          "height": 312
        }
      },
      "id": "CHDYmjnVEJ61",
      "execution_count": null,
      "outputs": [
        {
          "output_type": "execute_result",
          "data": {
            "image/png": "[encoded data removed]",
            "text/plain": [
              "<IPython.core.display.Image object>"
            ]
          },
          "metadata": {},
          "execution_count": 102
        }
      ]
    },
    {
      "cell_type": "code",
      "source": [
        "network8.compile(optimizer='rmsprop',\n",
        "                loss='categorical_crossentropy',\n",
        "                metrics=['accuracy'])"
      ],
      "metadata": {
        "id": "TFabov1IEUgU"
      },
      "id": "TFabov1IEUgU",
      "execution_count": null,
      "outputs": []
    },
    {
      "cell_type": "code",
      "source": [
        "# 7.- ENTRENAMOS LA RED CON EL JUEGO DE DATOS DE ENTRENAMIENTO\n",
        "network8.fit(train_images, one_hot_train_labels, epochs=5, batch_size=128)"
      ],
      "metadata": {
        "id": "i8W5nsNuEgil",
        "outputId": "c47ec032-4a5b-4d6d-9a98-2f4763868c2a",
        "colab": {
          "base_uri": "https://localhost:8080/"
        }
      },
      "id": "i8W5nsNuEgil",
      "execution_count": null,
      "outputs": [
        {
          "output_type": "stream",
          "name": "stdout",
          "text": [
            "Epoch 1/5\n",
            "469/469 [==============================] - 7s 13ms/step - loss: 0.5947 - accuracy: 0.7905\n",
            "Epoch 2/5\n",
            "469/469 [==============================] - 6s 12ms/step - loss: 0.4268 - accuracy: 0.8459\n",
            "Epoch 3/5\n",
            "469/469 [==============================] - 7s 15ms/step - loss: 0.3858 - accuracy: 0.8577\n",
            "Epoch 4/5\n",
            "469/469 [==============================] - 6s 12ms/step - loss: 0.3586 - accuracy: 0.8691\n",
            "Epoch 5/5\n",
            "469/469 [==============================] - 6s 12ms/step - loss: 0.3386 - accuracy: 0.8766\n"
          ]
        },
        {
          "output_type": "execute_result",
          "data": {
            "text/plain": [
              "<keras.callbacks.History at 0x7f19358d56d0>"
            ]
          },
          "metadata": {},
          "execution_count": 104
        }
      ]
    }
  ],
  "metadata": {
    "kernelspec": {
      "display_name": "Python 3 (ipykernel)",
      "language": "python",
      "name": "python3"
    },
    "language_info": {
      "codemirror_mode": {
        "name": "ipython",
        "version": 3
      },
      "file_extension": ".py",
      "mimetype": "text/x-python",
      "name": "python",
      "nbconvert_exporter": "python",
      "pygments_lexer": "ipython3",
      "version": "3.8.8"
    },
    "colab": {
      "provenance": []
    }
  },
  "nbformat": 4,
  "nbformat_minor": 5
}