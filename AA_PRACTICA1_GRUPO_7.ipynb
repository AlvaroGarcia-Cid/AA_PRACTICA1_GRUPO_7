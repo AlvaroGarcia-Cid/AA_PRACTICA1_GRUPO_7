{
  "cells": [
    {
      "cell_type": "markdown",
      "source": [
        "\n",
        "\n",
        "**GRUPO <7>**\n",
        "\n",
        "Pilar Arias, Álvaro García Cid, Yedra Martín, Amaya Sarasa\n"
      ],
      "metadata": {
        "id": "jhfa3wAEv8Ho"
      },
      "id": "jhfa3wAEv8Ho"
    },
    {
      "cell_type": "code",
      "source": [
        "%tensorflow_version 2.x\n",
        "import tensorflow as tf\n",
        "from tensorflow import keras\n",
        "print(tf.keras.__version__)\n",
        "print(\"GPU Available:\", tf.config.list_physical_devices('GPU'))\n",
        "print(tf.__version__)"
      ],
      "metadata": {
        "id": "PvAsFfxnyspk",
        "outputId": "913c34ca-69c6-410c-d1bd-bf01d11bd09a",
        "colab": {
          "base_uri": "https://localhost:8080/"
        }
      },
      "id": "PvAsFfxnyspk",
      "execution_count": 1,
      "outputs": [
        {
          "output_type": "stream",
          "name": "stdout",
          "text": [
            "Colab only includes TensorFlow 2.x; %tensorflow_version has no effect.\n",
            "2.9.0\n",
            "GPU Available: []\n",
            "2.9.2\n"
          ]
        }
      ]
    },
    {
      "cell_type": "code",
      "source": [
        "from keras.datasets import fashion_mnist\n",
        "\n",
        "(train_images, train_labels), (test_images, test_labels) = fashion_mnist.load_data()"
      ],
      "metadata": {
        "id": "2VVjNLKSzEQO",
        "outputId": "51962c70-0bd3-4d8c-9cb9-1528d3f66d8c",
        "colab": {
          "base_uri": "https://localhost:8080/"
        }
      },
      "id": "2VVjNLKSzEQO",
      "execution_count": 2,
      "outputs": [
        {
          "output_type": "stream",
          "name": "stdout",
          "text": [
            "Downloading data from https://storage.googleapis.com/tensorflow/tf-keras-datasets/train-labels-idx1-ubyte.gz\n",
            "29515/29515 [==============================] - 0s 0us/step\n",
            "Downloading data from https://storage.googleapis.com/tensorflow/tf-keras-datasets/train-images-idx3-ubyte.gz\n",
            "26421880/26421880 [==============================] - 0s 0us/step\n",
            "Downloading data from https://storage.googleapis.com/tensorflow/tf-keras-datasets/t10k-labels-idx1-ubyte.gz\n",
            "5148/5148 [==============================] - 0s 0us/step\n",
            "Downloading data from https://storage.googleapis.com/tensorflow/tf-keras-datasets/t10k-images-idx3-ubyte.gz\n",
            "4422102/4422102 [==============================] - 0s 0us/step\n"
          ]
        }
      ]
    },
    {
      "cell_type": "markdown",
      "source": [
        "## Analizamos los datos"
      ],
      "metadata": {
        "id": "xhR_gH-oI5wu"
      },
      "id": "xhR_gH-oI5wu"
    },
    {
      "cell_type": "markdown",
      "source": [
        "Comprobamos las dimensiones de los datos proporcionados:"
      ],
      "metadata": {
        "id": "1v7ZlvTDEvRt"
      },
      "id": "1v7ZlvTDEvRt"
    },
    {
      "cell_type": "code",
      "source": [
        "print(train_images.shape)"
      ],
      "metadata": {
        "id": "jvPP1zfMzfGk",
        "outputId": "b565a6b8-c8e3-4d15-e5cd-cddc2084c701",
        "colab": {
          "base_uri": "https://localhost:8080/"
        }
      },
      "id": "jvPP1zfMzfGk",
      "execution_count": 3,
      "outputs": [
        {
          "output_type": "stream",
          "name": "stdout",
          "text": [
            "(60000, 28, 28)\n"
          ]
        }
      ]
    },
    {
      "cell_type": "markdown",
      "source": [
        "Efectivamente, encontramos 60000 imágenes para el entrenamiento, de 28*28 píxeles. Más adelante deberemos cambiar las dimensiones de las imágenes, para así poderlas entrar correctamente a la primera capa de la red neuronal. "
      ],
      "metadata": {
        "id": "bEEGhLA1E0RC"
      },
      "id": "bEEGhLA1E0RC"
    },
    {
      "cell_type": "markdown",
      "source": [
        "Comprobamos la longitud de las etiquetas para comprobar que están todas, tanto en las fotos de entrenamiento como en las del test:"
      ],
      "metadata": {
        "id": "jnnOtlNIHAlY"
      },
      "id": "jnnOtlNIHAlY"
    },
    {
      "cell_type": "code",
      "source": [
        "len(train_labels)\n"
      ],
      "metadata": {
        "id": "Pxp77ITjG9Y2",
        "outputId": "bf4551bb-1784-43f2-e99f-2a7fb576cbfe",
        "colab": {
          "base_uri": "https://localhost:8080/"
        }
      },
      "id": "Pxp77ITjG9Y2",
      "execution_count": 4,
      "outputs": [
        {
          "output_type": "execute_result",
          "data": {
            "text/plain": [
              "60000"
            ]
          },
          "metadata": {},
          "execution_count": 4
        }
      ]
    },
    {
      "cell_type": "code",
      "source": [
        "len(test_labels)"
      ],
      "metadata": {
        "id": "dj0KYM-2HNTx",
        "outputId": "e185afac-1107-455c-8d60-26ec8e3f0d50",
        "colab": {
          "base_uri": "https://localhost:8080/"
        }
      },
      "id": "dj0KYM-2HNTx",
      "execution_count": 5,
      "outputs": [
        {
          "output_type": "execute_result",
          "data": {
            "text/plain": [
              "10000"
            ]
          },
          "metadata": {},
          "execution_count": 5
        }
      ]
    },
    {
      "cell_type": "markdown",
      "source": [
        "Es correcto, ya que para cada imagen, se tiene asociado una etiqueta como se deseaba."
      ],
      "metadata": {
        "id": "Z6SZPQVuHR1D"
      },
      "id": "Z6SZPQVuHR1D"
    },
    {
      "cell_type": "markdown",
      "source": [
        "A continuación, probamos a ver cómo se vería representada la imagen número 999:"
      ],
      "metadata": {
        "id": "OyXYrRwmFNJD"
      },
      "id": "OyXYrRwmFNJD"
    },
    {
      "cell_type": "code",
      "source": [
        "import numpy as np\n",
        "np.set_printoptions(precision=2, suppress=True, linewidth=145)\n",
        "print(np.matrix(test_images[1000]))"
      ],
      "metadata": {
        "id": "jKbpCXLYzpJr",
        "outputId": "ba4d997f-ffb3-4969-98fe-b4a85d509761",
        "colab": {
          "base_uri": "https://localhost:8080/"
        }
      },
      "id": "jKbpCXLYzpJr",
      "execution_count": 6,
      "outputs": [
        {
          "output_type": "stream",
          "name": "stdout",
          "text": [
            "[[  0   0   1   0   0   0   0   0  84  80   0   0   0   0   0   0   0   0   0  13  97   0   0   0   0   0   0   0]\n",
            " [  0   0   0   0   0   0  48 161 189 197   0   0   0   0   0   1   0   0   0 178 195 161  79   0   0   0   0   0]\n",
            " [  0   0   0   0   0  66 210 202 201 193 106   0   0   1   1   0   0   0 134 195 179 165 221  74   0   0   0   0]\n",
            " [  0   0   0   0   3 196 178 187 186 166 186 132   0   0   0   0   0 104 182 153 192 183 179 182  27   0   0   0]\n",
            " [  0   0   1   0 136 204 184 106 169 201 184 208 186  80  50 105 206 213 191 199 205 160 157 170 163   0   0   0]\n",
            " [  0   0   0   0 188 173 200 199 231 171 162 209 136 244 174 241 179 147 179 130 215 173 134 189 176   6   0   0]\n",
            " [  0   0   0  35 186 195 183 126 184 160 165 160 148 174 152 157 144 179 162 171 156 186 132 122 201  76   0   0]\n",
            " [  0   0   0 114 186 184 202 196 197 131 209 180 202 167 144 221 174 213 171 154 227 176 127 193 189 193   0   0]\n",
            " [  0   0   0 223 183 165 166 173 200 163 161 200 149 204 124 184 165 157 182 110 187 154 199 162 166 176   0   0]\n",
            " [  0   0  49 171 162 187 230 192 167 152 169 182 183 157 175 169 197 179 180 192 189 184 192 147 161 192  57   0]\n",
            " [  0   0  85 187 204 162 212 163 169 199 175 217 136 201 153 204 191 149 191 130 226 132 188 171 152 193 136   0]\n",
            " [  0   0   0  22 120 137 255 171 170 156 150 176 148 188 156 161 161 166 158 179 144 158 202 218 105  18   0   0]\n",
            " [  0   0   0   0   0   0  88 193 173 136 189 160 202 163 136 199 174 230 147 153 208 222 126   0   0   0   0   0]\n",
            " [  0   0   0   1   3   0 124 210 195 157 156 205 158 209 123 182 167 166 174 124 183 170 137   0   0   2   0   0]\n",
            " [  0   0   0   0   0   0 141 187 156 145 148 188 169 156 165 169 191 170 163 184 182 189 118   0   1   0   0   0]\n",
            " [  0   0   0   0   0   0 137 201 154 208 186 206 145 199 162 205 180 165 191 144 214 157 176   0   0   0   0   0]\n",
            " [  0   0   0   0   0   0 145 193 147 165 147 191 144 183 154 153 150 173 157 167 143 170 158   0   0   0   0   0]\n",
            " [  0   0   0   0   0   0 161 167 178 136 184 162 197 165 144 195 174 202 136 179 189 192 165   0   0   1   0   0]\n",
            " [  0   0   0   0   0   0 204 188 196 167 154 197 167 205 128 183 149 187 161 140 179 160 200   0   0   2   0   0]\n",
            " [  0   0   0   0   0   0 173 187 147 147 143 193 174 161 154 176 199 169 174 167 187 179 188   0   0   3   0   0]\n",
            " [  0   0   0   1   0   0 201 189 174 195 184 201 160 213 171 213 153 183 169 170 210 154 217   0   0   1   0   0]\n",
            " [  0   0   0   1   0   0 210 187 153 165 137 200 149 195 131 165 150 189 150 147 165 165 196   2   0   1   0   0]\n",
            " [  0   0   0   2   0  27 169 157 183 140 186 149 193 163 153 174 182 191 126 187 158 180 170  23   0   2   0   0]\n",
            " [  0   0   0   1   0  26 206 176 225 152 175 197 184 204 139 195 161 206 137 179 186 174 182  40   0   3   0   0]\n",
            " [  0   0   0   5   0  29 193 170 174 150 134 191 167 157 136 178 170 169 128 162 183 156 173  35   0   6   0   0]\n",
            " [  0   0   0   5   0  71 187 183 180 189 182 186 175 206 195 192 145 188 205 171 182 160 179 115   0   5   0   0]\n",
            " [  0   0   0   3   0 153 218 188 197 187 154 228 166 192 130 205 158 200 131 202 215 162 195 102   0   2   0   0]\n",
            " [  0   0   1   1   0   0  31  81 118 141 139 109 170 162 144 123 152 158 117  92  70  71  52   0   0   0   0   0]]\n"
          ]
        }
      ]
    },
    {
      "cell_type": "markdown",
      "source": [
        "Se puede asemejar a una camiseta, y efectivamente, comprobando con la etiqueta que se proporciona, se está representando de manera correcta."
      ],
      "metadata": {
        "id": "CnxdhGPrFWNJ"
      },
      "id": "CnxdhGPrFWNJ"
    },
    {
      "cell_type": "code",
      "source": [
        "test_labels[1000]\n"
      ],
      "metadata": {
        "id": "MrCFcje0z9RA",
        "outputId": "92725f1b-a960-40bc-b156-2e9960186b9f",
        "colab": {
          "base_uri": "https://localhost:8080/"
        }
      },
      "id": "MrCFcje0z9RA",
      "execution_count": 7,
      "outputs": [
        {
          "output_type": "execute_result",
          "data": {
            "text/plain": [
              "0"
            ]
          },
          "metadata": {},
          "execution_count": 7
        }
      ]
    },
    {
      "cell_type": "markdown",
      "source": [
        "Probamos otra manera de representar la imagen. "
      ],
      "metadata": {
        "id": "I1kORBYcFkaI"
      },
      "id": "I1kORBYcFkaI"
    },
    {
      "cell_type": "code",
      "source": [
        "import matplotlib.pyplot as plt\n",
        "digit = test_images[1000]\n",
        "plt.imshow(digit, cmap=plt.cm.binary)\n",
        "plt.show()"
      ],
      "metadata": {
        "id": "a0ofL4Fk0GaH",
        "outputId": "3c8921e7-04a9-4337-feab-75934f4399c2",
        "colab": {
          "base_uri": "https://localhost:8080/",
          "height": 265
        }
      },
      "id": "a0ofL4Fk0GaH",
      "execution_count": 8,
      "outputs": [
        {
          "output_type": "display_data",
          "data": {
            "text/plain": [
              "<Figure size 432x288 with 1 Axes>"
            ],
            "image/png": "[encoded data removed]"
          },
          "metadata": {
            "needs_background": "light"
          }
        }
      ]
    },
    {
      "cell_type": "markdown",
      "source": [
        "##Preparación de datos\n"
      ],
      "metadata": {
        "id": "V1Im6RMRFwFZ"
      },
      "id": "V1Im6RMRFwFZ"
    },
    {
      "cell_type": "code",
      "source": [
        "train_images = train_images.reshape((60000, 28 * 28))\n",
        "train_images = train_images.astype('float32') / 255\n",
        "test_images = test_images.reshape((10000, 28 * 28))\n",
        "test_images = test_images.astype('float32') / 255\n",
        "print(len(train_images))\n",
        "print(train_images.shape)\n",
        "np.set_printoptions(precision=2, suppress=True, linewidth=145)\n",
        "print(np.matrix(train_images[2]))"
      ],
      "metadata": {
        "id": "tt3cwHZ_3VC9",
        "outputId": "57d72224-02fa-4be5-ce4e-1ec19a017239",
        "colab": {
          "base_uri": "https://localhost:8080/"
        }
      },
      "id": "tt3cwHZ_3VC9",
      "execution_count": 9,
      "outputs": [
        {
          "output_type": "stream",
          "name": "stdout",
          "text": [
            "60000\n",
            "(60000, 784)\n",
            "[[0.   0.   0.   0.   0.   0.   0.   0.   0.   0.09 0.46 0.09 0.   0.   0.   0.   0.   0.19 0.35 0.02 0.   0.   0.   0.   0.   0.   0.   0.\n",
            "  0.   0.   0.   0.   0.   0.   0.   0.   0.05 0.39 0.83 0.8  0.73 0.7  0.68 0.73 0.76 0.87 0.56 0.33 0.   0.   0.   0.   0.   0.   0.   0.\n",
            "  0.   0.   0.   0.   0.   0.   0.   0.   0.   0.33 0.3  0.78 0.88 0.97 1.   0.93 0.89 0.62 0.27 0.31 0.   0.   0.   0.   0.   0.   0.   0.\n",
            "  0.   0.   0.   0.   0.   0.   0.   0.   0.   0.36 0.27 0.36 0.79 0.85 0.88 0.82 0.62 0.24 0.36 0.28 0.   0.   0.   0.   0.   0.   0.   0.\n",
            "  0.   0.   0.   0.   0.   0.   0.   0.   0.   0.31 0.35 0.24 0.23 0.34 0.42 0.29 0.22 0.3  0.38 0.29 0.   0.   0.   0.   0.   0.   0.   0.\n",
            "  0.   0.   0.   0.   0.   0.   0.   0.   0.   0.29 0.35 0.31 0.31 0.26 0.25 0.29 0.33 0.31 0.38 0.28 0.   0.   0.   0.   0.   0.   0.   0.\n",
            "  0.   0.   0.   0.   0.   0.   0.   0.   0.   0.3  0.35 0.3  0.31 0.33 0.33 0.33 0.33 0.32 0.37 0.3  0.   0.   0.   0.   0.   0.   0.   0.\n",
            "  0.   0.   0.   0.   0.   0.   0.   0.   0.   0.35 0.38 0.31 0.33 0.32 0.33 0.33 0.33 0.33 0.38 0.33 0.   0.   0.   0.   0.   0.   0.   0.\n",
            "  0.   0.   0.   0.   0.   0.   0.   0.   0.   0.36 0.38 0.32 0.33 0.33 0.33 0.34 0.35 0.33 0.39 0.34 0.   0.   0.   0.   0.   0.   0.   0.\n",
            "  0.   0.   0.   0.   0.   0.   0.   0.   0.   0.37 0.34 0.33 0.34 0.35 0.33 0.34 0.34 0.33 0.36 0.34 0.   0.   0.   0.   0.   0.   0.   0.\n",
            "  0.   0.   0.   0.   0.   0.   0.   0.   0.   0.38 0.34 0.34 0.33 0.35 0.34 0.34 0.34 0.35 0.33 0.42 0.   0.   0.   0.   0.   0.   0.   0.\n",
            "  0.   0.   0.   0.   0.   0.   0.   0.   0.07 0.39 0.35 0.34 0.34 0.35 0.34 0.34 0.33 0.35 0.3  0.46 0.03 0.   0.   0.   0.   0.   0.   0.\n",
            "  0.   0.   0.   0.   0.   0.   0.   0.   0.04 0.36 0.34 0.34 0.34 0.34 0.34 0.35 0.34 0.35 0.31 0.4  0.   0.   0.   0.   0.   0.   0.   0.\n",
            "  0.   0.   0.   0.   0.   0.   0.   0.   0.04 0.38 0.34 0.34 0.34 0.34 0.34 0.35 0.34 0.35 0.34 0.4  0.   0.   0.   0.   0.   0.   0.   0.\n",
            "  0.   0.   0.   0.   0.   0.   0.   0.   0.05 0.38 0.33 0.34 0.34 0.34 0.33 0.34 0.34 0.35 0.35 0.39 0.01 0.   0.   0.   0.   0.   0.   0.\n",
            "  0.   0.   0.   0.   0.   0.   0.   0.   0.08 0.37 0.33 0.35 0.33 0.34 0.35 0.35 0.35 0.35 0.35 0.39 0.03 0.   0.   0.   0.   0.   0.   0.\n",
            "  0.   0.   0.   0.   0.   0.   0.   0.   0.08 0.38 0.33 0.34 0.33 0.35 0.35 0.35 0.35 0.35 0.35 0.39 0.04 0.   0.   0.   0.   0.   0.   0.\n",
            "  0.   0.   0.   0.   0.   0.   0.   0.   0.09 0.38 0.33 0.34 0.33 0.34 0.35 0.35 0.35 0.35 0.36 0.4  0.05 0.   0.   0.   0.   0.   0.   0.\n",
            "  0.   0.   0.   0.   0.   0.   0.   0.   0.1  0.36 0.33 0.35 0.34 0.34 0.34 0.34 0.34 0.35 0.36 0.4  0.11 0.   0.   0.   0.   0.   0.   0.\n",
            "  0.   0.   0.   0.   0.   0.   0.   0.   0.12 0.37 0.33 0.35 0.35 0.34 0.34 0.34 0.34 0.35 0.35 0.4  0.15 0.   0.   0.   0.   0.   0.   0.\n",
            "  0.   0.   0.   0.   0.   0.   0.   0.   0.13 0.38 0.35 0.34 0.34 0.34 0.34 0.34 0.34 0.33 0.33 0.38 0.15 0.   0.   0.   0.   0.   0.   0.\n",
            "  0.   0.   0.   0.   0.   0.   0.   0.   0.16 0.38 0.34 0.33 0.34 0.34 0.34 0.34 0.34 0.33 0.33 0.36 0.19 0.   0.   0.   0.   0.   0.   0.\n",
            "  0.   0.   0.   0.   0.   0.   0.   0.   0.18 0.37 0.33 0.33 0.34 0.34 0.34 0.34 0.34 0.34 0.33 0.34 0.33 0.   0.   0.   0.   0.   0.   0.\n",
            "  0.   0.   0.   0.   0.   0.   0.   0.   0.28 0.37 0.33 0.33 0.33 0.35 0.34 0.34 0.35 0.34 0.33 0.33 0.25 0.   0.   0.   0.   0.   0.   0.\n",
            "  0.   0.   0.   0.   0.   0.   0.   0.   0.25 0.39 0.33 0.34 0.35 0.33 0.35 0.35 0.33 0.34 0.33 0.37 0.21 0.   0.   0.   0.   0.   0.   0.\n",
            "  0.   0.   0.   0.   0.   0.   0.   0.   0.04 0.4  0.39 0.36 0.36 0.35 0.33 0.33 0.33 0.34 0.42 0.42 0.05 0.   0.   0.   0.   0.   0.   0.\n",
            "  0.   0.   0.   0.   0.   0.   0.   0.   0.   0.03 0.29 0.36 0.41 0.42 0.4  0.4  0.42 0.4  0.29 0.04 0.   0.   0.   0.   0.   0.   0.   0.\n",
            "  0.   0.   0.   0.   0.   0.   0.   0.   0.   0.   0.   0.   0.07 0.16 0.22 0.22 0.13 0.03 0.   0.   0.   0.   0.   0.   0.   0.   0.   0.  ]]\n"
          ]
        }
      ]
    },
    {
      "cell_type": "code",
      "source": [
        "def to_one_hot(labels, dimension=10):\n",
        "    results = np.zeros((len(labels), dimension))\n",
        "    for i, label in enumerate(labels):\n",
        "        results[i, label] = 1.\n",
        "    return results\n",
        "\n",
        "# Datos de entrenamiento vectorizados\n",
        "one_hot_train_labels = to_one_hot(train_labels)\n",
        "# Datos de test vectorizados\n",
        "one_hot_test_labels = to_one_hot(test_labels)\n",
        "print(one_hot_test_labels)\n"
      ],
      "metadata": {
        "id": "LlxCEGKt4tUV",
        "outputId": "8dd780ec-ea9a-4db8-a425-7ce3735623b2",
        "colab": {
          "base_uri": "https://localhost:8080/"
        }
      },
      "id": "LlxCEGKt4tUV",
      "execution_count": 10,
      "outputs": [
        {
          "output_type": "stream",
          "name": "stdout",
          "text": [
            "[[0. 0. 0. ... 0. 0. 1.]\n",
            " [0. 0. 1. ... 0. 0. 0.]\n",
            " [0. 1. 0. ... 0. 0. 0.]\n",
            " ...\n",
            " [0. 0. 0. ... 0. 1. 0.]\n",
            " [0. 1. 0. ... 0. 0. 0.]\n",
            " [0. 0. 0. ... 0. 0. 0.]]\n"
          ]
        }
      ]
    },
    {
      "cell_type": "code",
      "source": [
        "from keras.utils.np_utils import to_categorical\n",
        "\n",
        "one_hot_train_labels = to_categorical(train_labels)\n",
        "one_hot_test_labels = to_categorical(test_labels)\n",
        "print(one_hot_test_labels[1])"
      ],
      "metadata": {
        "id": "5aR92VJ64zyz",
        "outputId": "30441fe9-b586-4293-cc21-aa1c0f9bd072",
        "colab": {
          "base_uri": "https://localhost:8080/"
        }
      },
      "id": "5aR92VJ64zyz",
      "execution_count": 11,
      "outputs": [
        {
          "output_type": "stream",
          "name": "stdout",
          "text": [
            "[0. 0. 1. 0. 0. 0. 0. 0. 0. 0.]\n"
          ]
        }
      ]
    },
    {
      "cell_type": "markdown",
      "source": [
        "## CASO 1"
      ],
      "metadata": {
        "id": "azz0J1EN1w_i"
      },
      "id": "azz0J1EN1w_i"
    },
    {
      "cell_type": "markdown",
      "source": [
        "Procedemos "
      ],
      "metadata": {
        "id": "qXRgQ0ISneCE"
      },
      "id": "qXRgQ0ISneCE"
    },
    {
      "cell_type": "code",
      "source": [
        "from keras import models\n",
        "from keras import layers\n",
        "network = models.Sequential()\n",
        "network.add(layers.Dense(10, activation='relu', input_shape=(28*28,)))\n",
        "network.add(layers.Dense(10, activation='softmax'))\n",
        "network.summary()"
      ],
      "metadata": {
        "id": "nYPCCxVF10iR",
        "outputId": "0a6f5447-74f1-446e-8415-0f70b176f1ea",
        "colab": {
          "base_uri": "https://localhost:8080/"
        }
      },
      "id": "nYPCCxVF10iR",
      "execution_count": 12,
      "outputs": [
        {
          "output_type": "stream",
          "name": "stdout",
          "text": [
            "Model: \"sequential\"\n",
            "_________________________________________________________________\n",
            " Layer (type)                Output Shape              Param #   \n",
            "=================================================================\n",
            " dense (Dense)               (None, 10)                7850      \n",
            "                                                                 \n",
            " dense_1 (Dense)             (None, 10)                110       \n",
            "                                                                 \n",
            "=================================================================\n",
            "Total params: 7,960\n",
            "Trainable params: 7,960\n",
            "Non-trainable params: 0\n",
            "_________________________________________________________________\n"
          ]
        }
      ]
    },
    {
      "cell_type": "code",
      "source": [
        "#Representar\n",
        "import tensorflow as tf\n",
        "from tensorflow import keras\n",
        "from tensorflow.keras import layers\n",
        "keras.utils.plot_model(network, \"my_first_model.png\", show_shapes=True)"
      ],
      "metadata": {
        "id": "7q0sDOHa2Y4W",
        "outputId": "b103ac20-11c2-417b-a4ee-56d1977eac7b",
        "colab": {
          "base_uri": "https://localhost:8080/",
          "height": 312
        }
      },
      "id": "7q0sDOHa2Y4W",
      "execution_count": 13,
      "outputs": [
        {
          "output_type": "execute_result",
          "data": {
            "image/png": "[encoded data removed]",
            "text/plain": [
              "<IPython.core.display.Image object>"
            ]
          },
          "metadata": {},
          "execution_count": 13
        }
      ]
    },
    {
      "cell_type": "code",
      "source": [
        "network.compile(optimizer='sgd',\n",
        "                loss='categorical_crossentropy',\n",
        "                metrics=['accuracy'])"
      ],
      "metadata": {
        "id": "Fezp-Ihw2jeE"
      },
      "id": "Fezp-Ihw2jeE",
      "execution_count": 14,
      "outputs": []
    },
    {
      "cell_type": "code",
      "source": [
        "# 7.- ENTRENAMOS LA RED CON EL JUEGO DE DATOS DE ENTRENAMIENTO\n",
        "network.fit(train_images, one_hot_train_labels, epochs=5, batch_size=128)"
      ],
      "metadata": {
        "id": "XQ1kFByM3bIs",
        "outputId": "e7342c5c-7a73-4754-d2fa-79c0f9a8b603",
        "colab": {
          "base_uri": "https://localhost:8080/"
        }
      },
      "id": "XQ1kFByM3bIs",
      "execution_count": 15,
      "outputs": [
        {
          "output_type": "stream",
          "name": "stdout",
          "text": [
            "Epoch 1/5\n",
            "469/469 [==============================] - 2s 2ms/step - loss: 1.3714 - accuracy: 0.5559\n",
            "Epoch 2/5\n",
            "469/469 [==============================] - 1s 2ms/step - loss: 0.7923 - accuracy: 0.7288\n",
            "Epoch 3/5\n",
            "469/469 [==============================] - 1s 2ms/step - loss: 0.6827 - accuracy: 0.7690\n",
            "Epoch 4/5\n",
            "469/469 [==============================] - 1s 2ms/step - loss: 0.6249 - accuracy: 0.7898\n",
            "Epoch 5/5\n",
            "469/469 [==============================] - 1s 2ms/step - loss: 0.5876 - accuracy: 0.8022\n"
          ]
        },
        {
          "output_type": "execute_result",
          "data": {
            "text/plain": [
              "<keras.callbacks.History at 0x7f334a107a10>"
            ]
          },
          "metadata": {},
          "execution_count": 15
        }
      ]
    },
    {
      "cell_type": "code",
      "source": [
        "def plot_image(i, predictions_array, true_label, img):\n",
        "  predictions_array, true_label, img = predictions_array, true_label[i], img[i]\n",
        "  plt.grid(False)\n",
        "  plt.xticks([])\n",
        "  plt.yticks([])\n",
        "\n",
        "  plt.imshow(img, cmap=plt.cm.binary)\n",
        "\n",
        "  predicted_label = np.argmax (predictions_array)\n",
        "  if predicted_label== true_label:\n",
        "    color = 'blue' \n",
        "  else:\n",
        "    color = 'red'\n",
        "  plt.xlabel(\"{} {:2.0f}% ({})\".format(predicted_label,\n",
        "                                100*np.max(predictions_array),\n",
        "                                true_label),\n",
        "                                color=color)\n",
        "def plot_value_array(i, predictions_array, true_label):\n",
        "  predictions_array, true_label = predictions_array, true_label[i]\n",
        "  plt.grid(False)\n",
        "  plt.xticks(range(10))\n",
        "  plt.yticks([])\n",
        "  thisplot = plt.bar(range(10), predictions_array, color=\"#777777\")\n",
        "  plt.ylim([0, 1])\n",
        "  predicted_label = np.argmax(predictions_array)\n",
        "  thisplot[predicted_label].set_color('red')\n",
        "  thisplot[true_label].set_color('blue')\n",
        " "
      ],
      "metadata": {
        "id": "RGIVmAO1WEHM"
      },
      "id": "RGIVmAO1WEHM",
      "execution_count": 16,
      "outputs": []
    },
    {
      "cell_type": "markdown",
      "source": [
        "Ejemplo de uso para ver la predicción de la 6ª figura de las imágenes de test."
      ],
      "metadata": {
        "id": "eak8oC--Xccz"
      },
      "id": "eak8oC--Xccz"
    },
    {
      "cell_type": "markdown",
      "source": [
        "## CASO 2"
      ],
      "metadata": {
        "id": "4eklmN5C18qe"
      },
      "id": "4eklmN5C18qe"
    },
    {
      "cell_type": "code",
      "source": [
        "from keras import models\n",
        "from keras import layers\n",
        "network2 = models.Sequential()\n",
        "network2.add(layers.Dense(10, activation='relu', input_shape=(28*28,)))\n",
        "network2.add(layers.Dense(10, activation='softmax'))\n",
        "network2.summary()"
      ],
      "metadata": {
        "id": "EPzdz9a21-Wm",
        "outputId": "bc8f480d-20ce-420b-cb90-e7b2b62b8510",
        "colab": {
          "base_uri": "https://localhost:8080/"
        }
      },
      "id": "EPzdz9a21-Wm",
      "execution_count": 20,
      "outputs": [
        {
          "output_type": "stream",
          "name": "stdout",
          "text": [
            "Model: \"sequential_1\"\n",
            "_________________________________________________________________\n",
            " Layer (type)                Output Shape              Param #   \n",
            "=================================================================\n",
            " dense_2 (Dense)             (None, 10)                7850      \n",
            "                                                                 \n",
            " dense_3 (Dense)             (None, 10)                110       \n",
            "                                                                 \n",
            "=================================================================\n",
            "Total params: 7,960\n",
            "Trainable params: 7,960\n",
            "Non-trainable params: 0\n",
            "_________________________________________________________________\n"
          ]
        }
      ]
    },
    {
      "cell_type": "code",
      "source": [
        "#Representar\n",
        "import tensorflow as tf\n",
        "from tensorflow import keras\n",
        "from tensorflow.keras import layers\n",
        "keras.utils.plot_model(network2, \"my_first_model.png\", show_shapes=True)"
      ],
      "metadata": {
        "id": "cR6i6gvDCPXy",
        "outputId": "71c38317-1846-414c-caf6-081d6c5a282c",
        "colab": {
          "base_uri": "https://localhost:8080/",
          "height": 312
        }
      },
      "id": "cR6i6gvDCPXy",
      "execution_count": 21,
      "outputs": [
        {
          "output_type": "execute_result",
          "data": {
            "image/png": "[encoded data removed]",
            "text/plain": [
              "<IPython.core.display.Image object>"
            ]
          },
          "metadata": {},
          "execution_count": 21
        }
      ]
    },
    {
      "cell_type": "code",
      "source": [
        "network2.compile(optimizer='rmsprop',\n",
        "                loss='categorical_crossentropy',\n",
        "                metrics=['accuracy'])"
      ],
      "metadata": {
        "id": "0zuKqRWcCRW-"
      },
      "id": "0zuKqRWcCRW-",
      "execution_count": 22,
      "outputs": []
    },
    {
      "cell_type": "code",
      "source": [
        "# 7.- ENTRENAMOS LA RED CON EL JUEGO DE DATOS DE ENTRENAMIENTO\n",
        "network2.fit(train_images, one_hot_train_labels, epochs=5, batch_size=128)"
      ],
      "metadata": {
        "id": "hZd6Rt_6CXEE",
        "outputId": "f3cfd696-46cc-472e-c40d-0d85438df8c4",
        "colab": {
          "base_uri": "https://localhost:8080/"
        }
      },
      "id": "hZd6Rt_6CXEE",
      "execution_count": 23,
      "outputs": [
        {
          "output_type": "stream",
          "name": "stdout",
          "text": [
            "Epoch 1/5\n",
            "469/469 [==============================] - 2s 2ms/step - loss: 1.0967 - accuracy: 0.6110\n",
            "Epoch 2/5\n",
            "469/469 [==============================] - 1s 2ms/step - loss: 0.5754 - accuracy: 0.8077\n",
            "Epoch 3/5\n",
            "469/469 [==============================] - 1s 2ms/step - loss: 0.4979 - accuracy: 0.8298\n",
            "Epoch 4/5\n",
            "469/469 [==============================] - 1s 2ms/step - loss: 0.4664 - accuracy: 0.8400\n",
            "Epoch 5/5\n",
            "469/469 [==============================] - 1s 2ms/step - loss: 0.4482 - accuracy: 0.8462\n"
          ]
        },
        {
          "output_type": "execute_result",
          "data": {
            "text/plain": [
              "<keras.callbacks.History at 0x7f3349d0a7d0>"
            ]
          },
          "metadata": {},
          "execution_count": 23
        }
      ]
    },
    {
      "cell_type": "markdown",
      "source": [
        "## CASO 3"
      ],
      "metadata": {
        "id": "si975wrD1_FG"
      },
      "id": "si975wrD1_FG"
    },
    {
      "cell_type": "code",
      "source": [
        "from keras import models\n",
        "from keras import layers\n",
        "network3 = models.Sequential()\n",
        "network3.add(layers.Dense(10, activation='sigmoid', input_shape=(28*28,)))\n",
        "network3.add(layers.Dense(10, activation='softmax'))\n",
        "network3.summary()"
      ],
      "metadata": {
        "id": "pc_7Or_m2ATs",
        "outputId": "3ec39047-83df-4ada-bbc4-47722bfb1a2a",
        "colab": {
          "base_uri": "https://localhost:8080/"
        }
      },
      "id": "pc_7Or_m2ATs",
      "execution_count": 24,
      "outputs": [
        {
          "output_type": "stream",
          "name": "stdout",
          "text": [
            "Model: \"sequential_2\"\n",
            "_________________________________________________________________\n",
            " Layer (type)                Output Shape              Param #   \n",
            "=================================================================\n",
            " dense_4 (Dense)             (None, 10)                7850      \n",
            "                                                                 \n",
            " dense_5 (Dense)             (None, 10)                110       \n",
            "                                                                 \n",
            "=================================================================\n",
            "Total params: 7,960\n",
            "Trainable params: 7,960\n",
            "Non-trainable params: 0\n",
            "_________________________________________________________________\n"
          ]
        }
      ]
    },
    {
      "cell_type": "code",
      "source": [
        "#Representar\n",
        "import tensorflow as tf\n",
        "from tensorflow import keras\n",
        "from tensorflow.keras import layers\n",
        "keras.utils.plot_model(network3, \"my_first_model.png\", show_shapes=True)"
      ],
      "metadata": {
        "id": "fbQhbV59EDkG",
        "outputId": "5e19af75-d980-48e4-e5a0-187263d553aa",
        "colab": {
          "base_uri": "https://localhost:8080/",
          "height": 312
        }
      },
      "id": "fbQhbV59EDkG",
      "execution_count": 25,
      "outputs": [
        {
          "output_type": "execute_result",
          "data": {
            "image/png": "[encoded data removed]",
            "text/plain": [
              "<IPython.core.display.Image object>"
            ]
          },
          "metadata": {},
          "execution_count": 25
        }
      ]
    },
    {
      "cell_type": "code",
      "source": [
        "network3.compile(optimizer='sgd',\n",
        "                loss='categorical_crossentropy',\n",
        "                metrics=['accuracy'])"
      ],
      "metadata": {
        "id": "tD2Wc6ZVENl-"
      },
      "id": "tD2Wc6ZVENl-",
      "execution_count": 26,
      "outputs": []
    },
    {
      "cell_type": "code",
      "source": [
        "# 7.- ENTRENAMOS LA RED CON EL JUEGO DE DATOS DE ENTRENAMIENTO\n",
        "network3.fit(train_images, one_hot_train_labels, epochs=5, batch_size=128)"
      ],
      "metadata": {
        "id": "3rm0Rj5XEXvA",
        "outputId": "76e3808b-3c5c-4cca-e480-1ff47919dbd7",
        "colab": {
          "base_uri": "https://localhost:8080/"
        }
      },
      "id": "3rm0Rj5XEXvA",
      "execution_count": 27,
      "outputs": [
        {
          "output_type": "stream",
          "name": "stdout",
          "text": [
            "Epoch 1/5\n",
            "469/469 [==============================] - 1s 2ms/step - loss: 2.0740 - accuracy: 0.3511\n",
            "Epoch 2/5\n",
            "469/469 [==============================] - 1s 2ms/step - loss: 1.7673 - accuracy: 0.5304\n",
            "Epoch 3/5\n",
            "469/469 [==============================] - 1s 2ms/step - loss: 1.5711 - accuracy: 0.5940\n",
            "Epoch 4/5\n",
            "469/469 [==============================] - 1s 2ms/step - loss: 1.4221 - accuracy: 0.6222\n",
            "Epoch 5/5\n",
            "469/469 [==============================] - 1s 2ms/step - loss: 1.3065 - accuracy: 0.6371\n"
          ]
        },
        {
          "output_type": "execute_result",
          "data": {
            "text/plain": [
              "<keras.callbacks.History at 0x7f3348091bd0>"
            ]
          },
          "metadata": {},
          "execution_count": 27
        }
      ]
    },
    {
      "cell_type": "markdown",
      "source": [
        "## CASO 4"
      ],
      "metadata": {
        "id": "QUpYmKrd2BEN"
      },
      "id": "QUpYmKrd2BEN"
    },
    {
      "cell_type": "code",
      "source": [
        "from keras import models\n",
        "from keras import layers\n",
        "network4 = models.Sequential()\n",
        "network4.add(layers.Dense(10, activation='sigmoid', input_shape=(28*28,)))\n",
        "network4.add(layers.Dense(10, activation='softmax'))\n",
        "network4.summary()"
      ],
      "metadata": {
        "id": "UOSR9miO2CpC",
        "outputId": "ecf15442-c512-4d52-cd7a-07f9f65990ba",
        "colab": {
          "base_uri": "https://localhost:8080/"
        }
      },
      "id": "UOSR9miO2CpC",
      "execution_count": 28,
      "outputs": [
        {
          "output_type": "stream",
          "name": "stdout",
          "text": [
            "Model: \"sequential_3\"\n",
            "_________________________________________________________________\n",
            " Layer (type)                Output Shape              Param #   \n",
            "=================================================================\n",
            " dense_6 (Dense)             (None, 10)                7850      \n",
            "                                                                 \n",
            " dense_7 (Dense)             (None, 10)                110       \n",
            "                                                                 \n",
            "=================================================================\n",
            "Total params: 7,960\n",
            "Trainable params: 7,960\n",
            "Non-trainable params: 0\n",
            "_________________________________________________________________\n"
          ]
        }
      ]
    },
    {
      "cell_type": "code",
      "source": [
        "#Representar\n",
        "import tensorflow as tf\n",
        "from tensorflow import keras\n",
        "from tensorflow.keras import layers\n",
        "keras.utils.plot_model(network4, \"my_first_model.png\", show_shapes=True)"
      ],
      "metadata": {
        "id": "Ojd115gNEFPz",
        "outputId": "b9efe898-fb4b-4f79-a84f-5b4182229fb8",
        "colab": {
          "base_uri": "https://localhost:8080/",
          "height": 312
        }
      },
      "id": "Ojd115gNEFPz",
      "execution_count": 29,
      "outputs": [
        {
          "output_type": "execute_result",
          "data": {
            "image/png": "[encoded data removed]",
            "text/plain": [
              "<IPython.core.display.Image object>"
            ]
          },
          "metadata": {},
          "execution_count": 29
        }
      ]
    },
    {
      "cell_type": "code",
      "source": [
        "network4.compile(optimizer='rmsprop',\n",
        "                loss='categorical_crossentropy',\n",
        "                metrics=['accuracy'])"
      ],
      "metadata": {
        "id": "AgGQWU-nEPzZ"
      },
      "id": "AgGQWU-nEPzZ",
      "execution_count": 30,
      "outputs": []
    },
    {
      "cell_type": "code",
      "source": [
        "# 7.- ENTRENAMOS LA RED CON EL JUEGO DE DATOS DE ENTRENAMIENTO\n",
        "network4.fit(train_images, one_hot_train_labels, epochs=5, batch_size=128)"
      ],
      "metadata": {
        "id": "0fJQOi68EY8s",
        "outputId": "093df71b-665a-4934-e756-68f9f65dbc50",
        "colab": {
          "base_uri": "https://localhost:8080/"
        }
      },
      "id": "0fJQOi68EY8s",
      "execution_count": 31,
      "outputs": [
        {
          "output_type": "stream",
          "name": "stdout",
          "text": [
            "Epoch 1/5\n",
            "469/469 [==============================] - 2s 2ms/step - loss: 1.4548 - accuracy: 0.6395\n",
            "Epoch 2/5\n",
            "469/469 [==============================] - 2s 3ms/step - loss: 0.8651 - accuracy: 0.7567\n",
            "Epoch 3/5\n",
            "469/469 [==============================] - 2s 4ms/step - loss: 0.6579 - accuracy: 0.7909\n",
            "Epoch 4/5\n",
            "469/469 [==============================] - 1s 3ms/step - loss: 0.5684 - accuracy: 0.8124\n",
            "Epoch 5/5\n",
            "469/469 [==============================] - 1s 2ms/step - loss: 0.5188 - accuracy: 0.8281\n"
          ]
        },
        {
          "output_type": "execute_result",
          "data": {
            "text/plain": [
              "<keras.callbacks.History at 0x7f3347eea1d0>"
            ]
          },
          "metadata": {},
          "execution_count": 31
        }
      ]
    },
    {
      "cell_type": "markdown",
      "source": [
        "## CASO 5"
      ],
      "metadata": {
        "id": "Xc2-aI5V2DV6"
      },
      "id": "Xc2-aI5V2DV6"
    },
    {
      "cell_type": "code",
      "source": [
        "from keras import models\n",
        "from keras import layers\n",
        "network5 = models.Sequential()\n",
        "network5.add(layers.Dense(512, activation='relu', input_shape=(28*28,)))\n",
        "network5.add(layers.Dense(10, activation='softmax'))\n",
        "network5.summary()"
      ],
      "metadata": {
        "id": "J9Wky-l42ERV",
        "outputId": "d0f1de8c-3dac-421e-8548-1b3d51860acf",
        "colab": {
          "base_uri": "https://localhost:8080/"
        }
      },
      "id": "J9Wky-l42ERV",
      "execution_count": 32,
      "outputs": [
        {
          "output_type": "stream",
          "name": "stdout",
          "text": [
            "Model: \"sequential_4\"\n",
            "_________________________________________________________________\n",
            " Layer (type)                Output Shape              Param #   \n",
            "=================================================================\n",
            " dense_8 (Dense)             (None, 512)               401920    \n",
            "                                                                 \n",
            " dense_9 (Dense)             (None, 10)                5130      \n",
            "                                                                 \n",
            "=================================================================\n",
            "Total params: 407,050\n",
            "Trainable params: 407,050\n",
            "Non-trainable params: 0\n",
            "_________________________________________________________________\n"
          ]
        }
      ]
    },
    {
      "cell_type": "code",
      "source": [
        "#Representar\n",
        "import tensorflow as tf\n",
        "from tensorflow import keras\n",
        "from tensorflow.keras import layers\n",
        "keras.utils.plot_model(network5, \"my_first_model.png\", show_shapes=True)"
      ],
      "metadata": {
        "id": "1WQO3JGMEGJl",
        "outputId": "39e8d62a-cfe7-4c1f-8918-b914b0648630",
        "colab": {
          "base_uri": "https://localhost:8080/",
          "height": 312
        }
      },
      "id": "1WQO3JGMEGJl",
      "execution_count": 33,
      "outputs": [
        {
          "output_type": "execute_result",
          "data": {
            "image/png": "[encoded data removed]",
            "text/plain": [
              "<IPython.core.display.Image object>"
            ]
          },
          "metadata": {},
          "execution_count": 33
        }
      ]
    },
    {
      "cell_type": "code",
      "source": [
        "network5.compile(optimizer='sgd',\n",
        "                loss='categorical_crossentropy',\n",
        "                metrics=['accuracy'])"
      ],
      "metadata": {
        "id": "2lncWX7pERH9"
      },
      "id": "2lncWX7pERH9",
      "execution_count": 34,
      "outputs": []
    },
    {
      "cell_type": "code",
      "source": [
        "# 7.- ENTRENAMOS LA RED CON EL JUEGO DE DATOS DE ENTRENAMIENTO\n",
        "network5.fit(train_images, one_hot_train_labels, epochs=5, batch_size=128)"
      ],
      "metadata": {
        "id": "E0qz7MmkEaNb",
        "outputId": "5d58b6da-79b1-4ec2-ac0a-a6f3b24222d8",
        "colab": {
          "base_uri": "https://localhost:8080/"
        }
      },
      "id": "E0qz7MmkEaNb",
      "execution_count": 35,
      "outputs": [
        {
          "output_type": "stream",
          "name": "stdout",
          "text": [
            "Epoch 1/5\n",
            "469/469 [==============================] - 4s 8ms/step - loss: 1.0254 - accuracy: 0.6910\n",
            "Epoch 2/5\n",
            "469/469 [==============================] - 4s 8ms/step - loss: 0.6582 - accuracy: 0.7901\n",
            "Epoch 3/5\n",
            "469/469 [==============================] - 4s 8ms/step - loss: 0.5800 - accuracy: 0.8128\n",
            "Epoch 4/5\n",
            "469/469 [==============================] - 4s 8ms/step - loss: 0.5392 - accuracy: 0.8241\n",
            "Epoch 5/5\n",
            "469/469 [==============================] - 4s 8ms/step - loss: 0.5125 - accuracy: 0.8296\n"
          ]
        },
        {
          "output_type": "execute_result",
          "data": {
            "text/plain": [
              "<keras.callbacks.History at 0x7f33487adc50>"
            ]
          },
          "metadata": {},
          "execution_count": 35
        }
      ]
    },
    {
      "cell_type": "markdown",
      "source": [
        "## CASO 6"
      ],
      "metadata": {
        "id": "i7D1ybn92E-j"
      },
      "id": "i7D1ybn92E-j"
    },
    {
      "cell_type": "code",
      "source": [
        "from keras import models\n",
        "from keras import layers\n",
        "network6 = models.Sequential()\n",
        "network6.add(layers.Dense(512, activation='relu', input_shape=(28*28,)))\n",
        "network6.add(layers.Dense(10, activation='softmax'))\n",
        "network6.summary()"
      ],
      "metadata": {
        "id": "Q3EMUPAg2Frk",
        "outputId": "a33e3b70-7c3c-463d-fdd0-2828bbfc5341",
        "colab": {
          "base_uri": "https://localhost:8080/"
        }
      },
      "id": "Q3EMUPAg2Frk",
      "execution_count": 36,
      "outputs": [
        {
          "output_type": "stream",
          "name": "stdout",
          "text": [
            "Model: \"sequential_5\"\n",
            "_________________________________________________________________\n",
            " Layer (type)                Output Shape              Param #   \n",
            "=================================================================\n",
            " dense_10 (Dense)            (None, 512)               401920    \n",
            "                                                                 \n",
            " dense_11 (Dense)            (None, 10)                5130      \n",
            "                                                                 \n",
            "=================================================================\n",
            "Total params: 407,050\n",
            "Trainable params: 407,050\n",
            "Non-trainable params: 0\n",
            "_________________________________________________________________\n"
          ]
        }
      ]
    },
    {
      "cell_type": "code",
      "source": [
        "#Representar\n",
        "import tensorflow as tf\n",
        "from tensorflow import keras\n",
        "from tensorflow.keras import layers\n",
        "keras.utils.plot_model(network6, \"my_first_model.png\", show_shapes=True)"
      ],
      "metadata": {
        "id": "cmq2asl2EHDS",
        "outputId": "61ed50bc-a75c-4f5f-9072-b928cc3716b1",
        "colab": {
          "base_uri": "https://localhost:8080/",
          "height": 312
        }
      },
      "id": "cmq2asl2EHDS",
      "execution_count": 37,
      "outputs": [
        {
          "output_type": "execute_result",
          "data": {
            "image/png": "[encoded data removed]",
            "text/plain": [
              "<IPython.core.display.Image object>"
            ]
          },
          "metadata": {},
          "execution_count": 37
        }
      ]
    },
    {
      "cell_type": "code",
      "source": [
        "network6.compile(optimizer='rmsprop',\n",
        "                loss='categorical_crossentropy',\n",
        "                metrics=['accuracy'])"
      ],
      "metadata": {
        "id": "XCH5Y60QESTC"
      },
      "id": "XCH5Y60QESTC",
      "execution_count": 38,
      "outputs": []
    },
    {
      "cell_type": "code",
      "source": [
        "# 7.- ENTRENAMOS LA RED CON EL JUEGO DE DATOS DE ENTRENAMIENTO\n",
        "network6.fit(train_images, one_hot_train_labels, epochs=5, batch_size=128)"
      ],
      "metadata": {
        "id": "HcxTvfyqEbbz",
        "outputId": "1e07a9a6-2e5b-477b-83ad-394e8dd9e889",
        "colab": {
          "base_uri": "https://localhost:8080/"
        }
      },
      "id": "HcxTvfyqEbbz",
      "execution_count": 39,
      "outputs": [
        {
          "output_type": "stream",
          "name": "stdout",
          "text": [
            "Epoch 1/5\n",
            "469/469 [==============================] - 5s 10ms/step - loss: 0.5533 - accuracy: 0.8049\n",
            "Epoch 2/5\n",
            "469/469 [==============================] - 5s 10ms/step - loss: 0.3820 - accuracy: 0.8596\n",
            "Epoch 3/5\n",
            "469/469 [==============================] - 5s 10ms/step - loss: 0.3378 - accuracy: 0.8750\n",
            "Epoch 4/5\n",
            "469/469 [==============================] - 5s 10ms/step - loss: 0.3109 - accuracy: 0.8851\n",
            "Epoch 5/5\n",
            "469/469 [==============================] - 5s 10ms/step - loss: 0.2938 - accuracy: 0.8911\n"
          ]
        },
        {
          "output_type": "execute_result",
          "data": {
            "text/plain": [
              "<keras.callbacks.History at 0x7f3349c674d0>"
            ]
          },
          "metadata": {},
          "execution_count": 39
        }
      ]
    },
    {
      "cell_type": "markdown",
      "source": [
        "## CASO 7"
      ],
      "metadata": {
        "id": "4OdWbAE22Gz7"
      },
      "id": "4OdWbAE22Gz7"
    },
    {
      "cell_type": "code",
      "source": [
        "from keras import models\n",
        "from keras import layers\n",
        "network7 = models.Sequential()\n",
        "network7.add(layers.Dense(512, activation='sigmoid', input_shape=(28*28,)))\n",
        "network7.add(layers.Dense(10, activation='softmax'))\n",
        "network7.summary()"
      ],
      "metadata": {
        "id": "o8eVZNk22H6M",
        "outputId": "1d24841e-5ad2-4bf6-b829-1ce829211cd5",
        "colab": {
          "base_uri": "https://localhost:8080/"
        }
      },
      "id": "o8eVZNk22H6M",
      "execution_count": 40,
      "outputs": [
        {
          "output_type": "stream",
          "name": "stdout",
          "text": [
            "Model: \"sequential_6\"\n",
            "_________________________________________________________________\n",
            " Layer (type)                Output Shape              Param #   \n",
            "=================================================================\n",
            " dense_12 (Dense)            (None, 512)               401920    \n",
            "                                                                 \n",
            " dense_13 (Dense)            (None, 10)                5130      \n",
            "                                                                 \n",
            "=================================================================\n",
            "Total params: 407,050\n",
            "Trainable params: 407,050\n",
            "Non-trainable params: 0\n",
            "_________________________________________________________________\n"
          ]
        }
      ]
    },
    {
      "cell_type": "code",
      "source": [
        "#Representar\n",
        "import tensorflow as tf\n",
        "from tensorflow import keras\n",
        "from tensorflow.keras import layers\n",
        "keras.utils.plot_model(network7, \"my_first_model.png\", show_shapes=True)"
      ],
      "metadata": {
        "id": "Nju7oxvtEIr-",
        "outputId": "c6fcd377-32f7-4363-978c-60faea144e22",
        "colab": {
          "base_uri": "https://localhost:8080/",
          "height": 312
        }
      },
      "id": "Nju7oxvtEIr-",
      "execution_count": 41,
      "outputs": [
        {
          "output_type": "execute_result",
          "data": {
            "image/png": "[encoded data removed]",
            "text/plain": [
              "<IPython.core.display.Image object>"
            ]
          },
          "metadata": {},
          "execution_count": 41
        }
      ]
    },
    {
      "cell_type": "code",
      "source": [
        "network7.compile(optimizer='sgd',\n",
        "                loss='categorical_crossentropy',\n",
        "                metrics=['accuracy'])"
      ],
      "metadata": {
        "id": "Nkl8tjGoETWS"
      },
      "id": "Nkl8tjGoETWS",
      "execution_count": 42,
      "outputs": []
    },
    {
      "cell_type": "code",
      "source": [
        "# 7.- ENTRENAMOS LA RED CON EL JUEGO DE DATOS DE ENTRENAMIENTO\n",
        "network7.fit(train_images, one_hot_train_labels, epochs=5, batch_size=128)"
      ],
      "metadata": {
        "id": "yKwPir_NEdbd",
        "outputId": "0b3e2777-1ca4-492c-ffcc-97dd8e83ed03",
        "colab": {
          "base_uri": "https://localhost:8080/"
        }
      },
      "id": "yKwPir_NEdbd",
      "execution_count": 43,
      "outputs": [
        {
          "output_type": "stream",
          "name": "stdout",
          "text": [
            "Epoch 1/5\n",
            "469/469 [==============================] - 4s 8ms/step - loss: 1.7074 - accuracy: 0.5879\n",
            "Epoch 2/5\n",
            "469/469 [==============================] - 4s 8ms/step - loss: 1.1244 - accuracy: 0.7126\n",
            "Epoch 3/5\n",
            "469/469 [==============================] - 4s 8ms/step - loss: 0.9199 - accuracy: 0.7325\n",
            "Epoch 4/5\n",
            "469/469 [==============================] - 4s 8ms/step - loss: 0.8193 - accuracy: 0.7448\n",
            "Epoch 5/5\n",
            "469/469 [==============================] - 4s 8ms/step - loss: 0.7590 - accuracy: 0.7531\n"
          ]
        },
        {
          "output_type": "execute_result",
          "data": {
            "text/plain": [
              "<keras.callbacks.History at 0x7f3344eafc90>"
            ]
          },
          "metadata": {},
          "execution_count": 43
        }
      ]
    },
    {
      "cell_type": "markdown",
      "source": [
        "## CASO 8"
      ],
      "metadata": {
        "id": "7Kcc87l82JAa"
      },
      "id": "7Kcc87l82JAa"
    },
    {
      "cell_type": "code",
      "source": [
        "from keras import models\n",
        "from keras import layers\n",
        "network8 = models.Sequential()\n",
        "network8.add(layers.Dense(512, activation='sigmoid', input_shape=(28*28,)))\n",
        "network8.add(layers.Dense(10, activation='softmax'))\n",
        "network8.summary()"
      ],
      "metadata": {
        "id": "8kJBhvdb2M9W",
        "outputId": "13c945d5-6c86-4566-cc31-33a1250cb4fe",
        "colab": {
          "base_uri": "https://localhost:8080/"
        }
      },
      "id": "8kJBhvdb2M9W",
      "execution_count": 44,
      "outputs": [
        {
          "output_type": "stream",
          "name": "stdout",
          "text": [
            "Model: \"sequential_7\"\n",
            "_________________________________________________________________\n",
            " Layer (type)                Output Shape              Param #   \n",
            "=================================================================\n",
            " dense_14 (Dense)            (None, 512)               401920    \n",
            "                                                                 \n",
            " dense_15 (Dense)            (None, 10)                5130      \n",
            "                                                                 \n",
            "=================================================================\n",
            "Total params: 407,050\n",
            "Trainable params: 407,050\n",
            "Non-trainable params: 0\n",
            "_________________________________________________________________\n"
          ]
        }
      ]
    },
    {
      "cell_type": "code",
      "source": [
        "#Representar\n",
        "import tensorflow as tf\n",
        "from tensorflow import keras\n",
        "from tensorflow.keras import layers\n",
        "keras.utils.plot_model(network8, \"my_first_model.png\", show_shapes=True)"
      ],
      "metadata": {
        "id": "CHDYmjnVEJ61",
        "outputId": "8483db74-c801-4639-defb-ff796cdfec9a",
        "colab": {
          "base_uri": "https://localhost:8080/",
          "height": 312
        }
      },
      "id": "CHDYmjnVEJ61",
      "execution_count": 45,
      "outputs": [
        {
          "output_type": "execute_result",
          "data": {
            "image/png": "[encoded data removed]",
            "text/plain": [
              "<IPython.core.display.Image object>"
            ]
          },
          "metadata": {},
          "execution_count": 45
        }
      ]
    },
    {
      "cell_type": "code",
      "source": [
        "network8.compile(optimizer='rmsprop',\n",
        "                loss='categorical_crossentropy',\n",
        "                metrics=['accuracy'])"
      ],
      "metadata": {
        "id": "TFabov1IEUgU"
      },
      "id": "TFabov1IEUgU",
      "execution_count": 46,
      "outputs": []
    },
    {
      "cell_type": "code",
      "source": [
        "# 7.- ENTRENAMOS LA RED CON EL JUEGO DE DATOS DE ENTRENAMIENTO\n",
        "network8.fit(train_images, one_hot_train_labels, epochs=5, batch_size=128)"
      ],
      "metadata": {
        "id": "i8W5nsNuEgil",
        "outputId": "19353124-6311-4ec1-9ae4-4ed3bb37eeda",
        "colab": {
          "base_uri": "https://localhost:8080/"
        }
      },
      "id": "i8W5nsNuEgil",
      "execution_count": 47,
      "outputs": [
        {
          "output_type": "stream",
          "name": "stdout",
          "text": [
            "Epoch 1/5\n",
            "469/469 [==============================] - 5s 10ms/step - loss: 0.5872 - accuracy: 0.7928\n",
            "Epoch 2/5\n",
            "469/469 [==============================] - 5s 10ms/step - loss: 0.4269 - accuracy: 0.8450\n",
            "Epoch 3/5\n",
            "469/469 [==============================] - 5s 10ms/step - loss: 0.3852 - accuracy: 0.8603\n",
            "Epoch 4/5\n",
            "469/469 [==============================] - 5s 10ms/step - loss: 0.3589 - accuracy: 0.8685\n",
            "Epoch 5/5\n",
            "469/469 [==============================] - 5s 10ms/step - loss: 0.3383 - accuracy: 0.8755\n"
          ]
        },
        {
          "output_type": "execute_result",
          "data": {
            "text/plain": [
              "<keras.callbacks.History at 0x7f3344eb29d0>"
            ]
          },
          "metadata": {},
          "execution_count": 47
        }
      ]
    },
    {
      "cell_type": "code",
      "source": [
        "predictions = network.predict(test_images)\n",
        "predictions2 = network2.predict(test_images)\n",
        "predictions3 = network3.predict(test_images)\n",
        "predictions4 = network4.predict(test_images)\n",
        "predictions5 = network5.predict(test_images)\n",
        "predictions6 = network6.predict(test_images)\n",
        "predictions7 = network7.predict(test_images)\n",
        "predictions8 = network8.predict(test_images)"
      ],
      "metadata": {
        "id": "V0LiVj180Vb-",
        "outputId": "67e78820-fce8-4abc-fe35-569a0be81a19",
        "colab": {
          "base_uri": "https://localhost:8080/"
        }
      },
      "id": "V0LiVj180Vb-",
      "execution_count": 48,
      "outputs": [
        {
          "output_type": "stream",
          "name": "stdout",
          "text": [
            "313/313 [==============================] - 0s 1ms/step\n",
            "313/313 [==============================] - 0s 1ms/step\n",
            "313/313 [==============================] - 0s 1ms/step\n",
            "313/313 [==============================] - 0s 1ms/step\n",
            "313/313 [==============================] - 1s 2ms/step\n",
            "313/313 [==============================] - 1s 2ms/step\n",
            "313/313 [==============================] - 1s 3ms/step\n",
            "313/313 [==============================] - 1s 2ms/step\n"
          ]
        }
      ]
    },
    {
      "cell_type": "code",
      "source": [
        "i = 0\n",
        "plt.figure(figsize=(6,3))\n",
        "plt.subplot(1,2,1)\n",
        "plot_image(5, predictions[5], test_labels, test_images.reshape(10000,28,28))\n",
        "plt.subplot(1,2,2)\n",
        "plot_value_array(5, predictions[5], test_labels)\n",
        "plt.show()\n",
        "plt.figure(figsize=(6,3))\n",
        "plt.subplot(1,2,1)\n",
        "plot_image(5, predictions2[5], test_labels, test_images.reshape(10000,28,28))\n",
        "plt.subplot(1,2,2)\n",
        "plot_value_array(5, predictions2[5], test_labels)\n",
        "plt.show()\n",
        "plt.figure(figsize=(6,3))\n",
        "plt.subplot(1,2,1)\n",
        "plot_image(5, predictions3[5], test_labels, test_images.reshape(10000,28,28))\n",
        "plt.subplot(1,2,2)\n",
        "plot_value_array(5, predictions3[5], test_labels)\n",
        "plt.show()\n",
        "plt.figure(figsize=(6,3))\n",
        "plt.subplot(1,2,1)\n",
        "plot_image(5, predictions4[5], test_labels, test_images.reshape(10000,28,28))\n",
        "plt.subplot(1,2,2)\n",
        "plot_value_array(5, predictions4[5], test_labels)\n",
        "plt.show()\n",
        "plt.figure(figsize=(6,3))\n",
        "plt.subplot(1,2,1)\n",
        "plot_image(5, predictions5[5], test_labels, test_images.reshape(10000,28,28))\n",
        "plt.subplot(1,2,2)\n",
        "plot_value_array(5, predictions5[5], test_labels)\n",
        "plt.show()\n",
        "plt.figure(figsize=(6,3))\n",
        "plt.subplot(1,2,1)\n",
        "plot_image(5, predictions6[5], test_labels, test_images.reshape(10000,28,28))\n",
        "plt.subplot(1,2,2)\n",
        "plot_value_array(5, predictions6[5], test_labels)\n",
        "plt.show()\n",
        "plt.figure(figsize=(6,3))\n",
        "plt.subplot(1,2,1)\n",
        "plot_image(5, predictions7[5], test_labels, test_images.reshape(10000,28,28))\n",
        "plt.subplot(1,2,2)\n",
        "plot_value_array(5, predictions7[5], test_labels)\n",
        "plt.show()\n",
        "plt.figure(figsize=(6,3))\n",
        "plt.subplot(1,2,1)\n",
        "plot_image(5, predictions8[5], test_labels, test_images.reshape(10000,28,28))\n",
        "plt.subplot(1,2,2)\n",
        "plot_value_array(5, predictions8[5], test_labels)\n",
        "plt.show()"
      ],
      "metadata": {
        "id": "xQMoTXUA0a2O",
        "outputId": "a7aefbd2-83a0-45df-a849-49878a120e10",
        "colab": {
          "base_uri": "https://localhost:8080/",
          "height": 1000
        }
      },
      "id": "xQMoTXUA0a2O",
      "execution_count": 50,
      "outputs": [
        {
          "output_type": "display_data",
          "data": {
            "text/plain": [
              "<Figure size 432x216 with 2 Axes>"
            ],
            "image/png": "[encoded data removed]"
          },
          "metadata": {
            "needs_background": "light"
          }
        },
        {
          "output_type": "display_data",
          "data": {
            "text/plain": [
              "<Figure size 432x216 with 2 Axes>"
            ],
            "image/png": "[encoded data removed]"
          },
          "metadata": {
            "needs_background": "light"
          }
        },
        {
          "output_type": "display_data",
          "data": {
            "text/plain": [
              "<Figure size 432x216 with 2 Axes>"
            ],
            "image/png": "[encoded data removed]"
          },
          "metadata": {
            "needs_background": "light"
          }
        },
        {
          "output_type": "display_data",
          "data": {
            "text/plain": [
              "<Figure size 432x216 with 2 Axes>"
            ],
            "image/png": "[encoded data removed]"
          },
          "metadata": {
            "needs_background": "light"
          }
        },
        {
          "output_type": "display_data",
          "data": {
            "text/plain": [
              "<Figure size 432x216 with 2 Axes>"
            ],
            "image/png": "[encoded data removed]"
          },
          "metadata": {
            "needs_background": "light"
          }
        },
        {
          "output_type": "display_data",
          "data": {
            "text/plain": [
              "<Figure size 432x216 with 2 Axes>"
            ],
            "image/png": "[encoded data removed]"
          },
          "metadata": {
            "needs_background": "light"
          }
        },
        {
          "output_type": "display_data",
          "data": {
            "text/plain": [
              "<Figure size 432x216 with 2 Axes>"
            ],
            "image/png": "[encoded data removed]"
          },
          "metadata": {
            "needs_background": "light"
          }
        },
        {
          "output_type": "display_data",
          "data": {
            "text/plain": [
              "<Figure size 432x216 with 2 Axes>"
            ],
            "image/png": "[encoded data removed]"
          },
          "metadata": {
            "needs_background": "light"
          }
        }
      ]
    }
  ],
  "metadata": {
    "kernelspec": {
      "display_name": "Python 3 (ipykernel)",
      "language": "python",
      "name": "python3"
    },
    "language_info": {
      "codemirror_mode": {
        "name": "ipython",
        "version": 3
      },
      "file_extension": ".py",
      "mimetype": "text/x-python",
      "name": "python",
      "nbconvert_exporter": "python",
      "pygments_lexer": "ipython3",
      "version": "3.8.8"
    },
    "colab": {
      "provenance": []
    }
  },
  "nbformat": 4,
  "nbformat_minor": 5
}